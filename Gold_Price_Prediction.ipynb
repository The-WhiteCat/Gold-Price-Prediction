{
  "cells": [
    {
      "cell_type": "markdown",
      "metadata": {
        "id": "view-in-github",
        "colab_type": "text"
      },
      "source": [
        "<a href=\"https://colab.research.google.com/github/The-WhiteCat/Gold-Price-Prediction/blob/main/Gold_Price_Prediction.ipynb\" target=\"_parent\"><img src=\"https://colab.research.google.com/assets/colab-badge.svg\" alt=\"Open In Colab\"/></a>"
      ]
    },
    {
      "cell_type": "code",
      "execution_count": null,
      "metadata": {
        "id": "wEdIt-fUg3dV"
      },
      "outputs": [],
      "source": [
        "import numpy as np\n",
        "import pandas as pd\n",
        "import matplotlib.pyplot as plt\n",
        "import seaborn as sns\n",
        "from sklearn.model_selection import train_test_split\n",
        "from sklearn.ensemble import RandomForestRegressor\n",
        "from sklearn import metrics\n"
      ]
    },
    {
      "cell_type": "markdown",
      "metadata": {
        "id": "mqzenVBkvbmv"
      },
      "source": [
        "Data Collection and processing"
      ]
    },
    {
      "cell_type": "code",
      "execution_count": null,
      "metadata": {
        "id": "DYQ_do96lGAW"
      },
      "outputs": [],
      "source": [
        "gld=pd.read_csv('/content/gld_price_data.csv')\n"
      ]
    },
    {
      "cell_type": "code",
      "execution_count": null,
      "metadata": {
        "colab": {
          "base_uri": "https://localhost:8080/",
          "height": 206
        },
        "id": "uOtSTsarxJq7",
        "outputId": "c7864bdc-c4de-455a-878c-14268a50f72d"
      },
      "outputs": [
        {
          "output_type": "execute_result",
          "data": {
            "text/plain": [
              "       Date          SPX        GLD        USO     SLV   EUR/USD\n",
              "0  1/2/2008  1447.160034  84.860001  78.470001  15.180  1.471692\n",
              "1  1/3/2008  1447.160034  85.570000  78.370003  15.285  1.474491\n",
              "2  1/4/2008  1411.630005  85.129997  77.309998  15.167  1.475492\n",
              "3  1/7/2008  1416.180054  84.769997  75.500000  15.053  1.468299\n",
              "4  1/8/2008  1390.189941  86.779999  76.059998  15.590  1.557099"
            ],
            "text/html": [
              "\n",
              "  <div id=\"df-67f053c8-ff32-429b-8ed4-fec1d7ecb81b\" class=\"colab-df-container\">\n",
              "    <div>\n",
              "<style scoped>\n",
              "    .dataframe tbody tr th:only-of-type {\n",
              "        vertical-align: middle;\n",
              "    }\n",
              "\n",
              "    .dataframe tbody tr th {\n",
              "        vertical-align: top;\n",
              "    }\n",
              "\n",
              "    .dataframe thead th {\n",
              "        text-align: right;\n",
              "    }\n",
              "</style>\n",
              "<table border=\"1\" class=\"dataframe\">\n",
              "  <thead>\n",
              "    <tr style=\"text-align: right;\">\n",
              "      <th></th>\n",
              "      <th>Date</th>\n",
              "      <th>SPX</th>\n",
              "      <th>GLD</th>\n",
              "      <th>USO</th>\n",
              "      <th>SLV</th>\n",
              "      <th>EUR/USD</th>\n",
              "    </tr>\n",
              "  </thead>\n",
              "  <tbody>\n",
              "    <tr>\n",
              "      <th>0</th>\n",
              "      <td>1/2/2008</td>\n",
              "      <td>1447.160034</td>\n",
              "      <td>84.860001</td>\n",
              "      <td>78.470001</td>\n",
              "      <td>15.180</td>\n",
              "      <td>1.471692</td>\n",
              "    </tr>\n",
              "    <tr>\n",
              "      <th>1</th>\n",
              "      <td>1/3/2008</td>\n",
              "      <td>1447.160034</td>\n",
              "      <td>85.570000</td>\n",
              "      <td>78.370003</td>\n",
              "      <td>15.285</td>\n",
              "      <td>1.474491</td>\n",
              "    </tr>\n",
              "    <tr>\n",
              "      <th>2</th>\n",
              "      <td>1/4/2008</td>\n",
              "      <td>1411.630005</td>\n",
              "      <td>85.129997</td>\n",
              "      <td>77.309998</td>\n",
              "      <td>15.167</td>\n",
              "      <td>1.475492</td>\n",
              "    </tr>\n",
              "    <tr>\n",
              "      <th>3</th>\n",
              "      <td>1/7/2008</td>\n",
              "      <td>1416.180054</td>\n",
              "      <td>84.769997</td>\n",
              "      <td>75.500000</td>\n",
              "      <td>15.053</td>\n",
              "      <td>1.468299</td>\n",
              "    </tr>\n",
              "    <tr>\n",
              "      <th>4</th>\n",
              "      <td>1/8/2008</td>\n",
              "      <td>1390.189941</td>\n",
              "      <td>86.779999</td>\n",
              "      <td>76.059998</td>\n",
              "      <td>15.590</td>\n",
              "      <td>1.557099</td>\n",
              "    </tr>\n",
              "  </tbody>\n",
              "</table>\n",
              "</div>\n",
              "    <div class=\"colab-df-buttons\">\n",
              "\n",
              "  <div class=\"colab-df-container\">\n",
              "    <button class=\"colab-df-convert\" onclick=\"convertToInteractive('df-67f053c8-ff32-429b-8ed4-fec1d7ecb81b')\"\n",
              "            title=\"Convert this dataframe to an interactive table.\"\n",
              "            style=\"display:none;\">\n",
              "\n",
              "  <svg xmlns=\"http://www.w3.org/2000/svg\" height=\"24px\" viewBox=\"0 -960 960 960\">\n",
              "    <path d=\"M120-120v-720h720v720H120Zm60-500h600v-160H180v160Zm220 220h160v-160H400v160Zm0 220h160v-160H400v160ZM180-400h160v-160H180v160Zm440 0h160v-160H620v160ZM180-180h160v-160H180v160Zm440 0h160v-160H620v160Z\"/>\n",
              "  </svg>\n",
              "    </button>\n",
              "\n",
              "  <style>\n",
              "    .colab-df-container {\n",
              "      display:flex;\n",
              "      gap: 12px;\n",
              "    }\n",
              "\n",
              "    .colab-df-convert {\n",
              "      background-color: #E8F0FE;\n",
              "      border: none;\n",
              "      border-radius: 50%;\n",
              "      cursor: pointer;\n",
              "      display: none;\n",
              "      fill: #1967D2;\n",
              "      height: 32px;\n",
              "      padding: 0 0 0 0;\n",
              "      width: 32px;\n",
              "    }\n",
              "\n",
              "    .colab-df-convert:hover {\n",
              "      background-color: #E2EBFA;\n",
              "      box-shadow: 0px 1px 2px rgba(60, 64, 67, 0.3), 0px 1px 3px 1px rgba(60, 64, 67, 0.15);\n",
              "      fill: #174EA6;\n",
              "    }\n",
              "\n",
              "    .colab-df-buttons div {\n",
              "      margin-bottom: 4px;\n",
              "    }\n",
              "\n",
              "    [theme=dark] .colab-df-convert {\n",
              "      background-color: #3B4455;\n",
              "      fill: #D2E3FC;\n",
              "    }\n",
              "\n",
              "    [theme=dark] .colab-df-convert:hover {\n",
              "      background-color: #434B5C;\n",
              "      box-shadow: 0px 1px 3px 1px rgba(0, 0, 0, 0.15);\n",
              "      filter: drop-shadow(0px 1px 2px rgba(0, 0, 0, 0.3));\n",
              "      fill: #FFFFFF;\n",
              "    }\n",
              "  </style>\n",
              "\n",
              "    <script>\n",
              "      const buttonEl =\n",
              "        document.querySelector('#df-67f053c8-ff32-429b-8ed4-fec1d7ecb81b button.colab-df-convert');\n",
              "      buttonEl.style.display =\n",
              "        google.colab.kernel.accessAllowed ? 'block' : 'none';\n",
              "\n",
              "      async function convertToInteractive(key) {\n",
              "        const element = document.querySelector('#df-67f053c8-ff32-429b-8ed4-fec1d7ecb81b');\n",
              "        const dataTable =\n",
              "          await google.colab.kernel.invokeFunction('convertToInteractive',\n",
              "                                                    [key], {});\n",
              "        if (!dataTable) return;\n",
              "\n",
              "        const docLinkHtml = 'Like what you see? Visit the ' +\n",
              "          '<a target=\"_blank\" href=https://colab.research.google.com/notebooks/data_table.ipynb>data table notebook</a>'\n",
              "          + ' to learn more about interactive tables.';\n",
              "        element.innerHTML = '';\n",
              "        dataTable['output_type'] = 'display_data';\n",
              "        await google.colab.output.renderOutput(dataTable, element);\n",
              "        const docLink = document.createElement('div');\n",
              "        docLink.innerHTML = docLinkHtml;\n",
              "        element.appendChild(docLink);\n",
              "      }\n",
              "    </script>\n",
              "  </div>\n",
              "\n",
              "\n",
              "<div id=\"df-8fa2e894-ff41-4f5c-8aae-7cba8651128d\">\n",
              "  <button class=\"colab-df-quickchart\" onclick=\"quickchart('df-8fa2e894-ff41-4f5c-8aae-7cba8651128d')\"\n",
              "            title=\"Suggest charts\"\n",
              "            style=\"display:none;\">\n",
              "\n",
              "<svg xmlns=\"http://www.w3.org/2000/svg\" height=\"24px\"viewBox=\"0 0 24 24\"\n",
              "     width=\"24px\">\n",
              "    <g>\n",
              "        <path d=\"M19 3H5c-1.1 0-2 .9-2 2v14c0 1.1.9 2 2 2h14c1.1 0 2-.9 2-2V5c0-1.1-.9-2-2-2zM9 17H7v-7h2v7zm4 0h-2V7h2v10zm4 0h-2v-4h2v4z\"/>\n",
              "    </g>\n",
              "</svg>\n",
              "  </button>\n",
              "\n",
              "<style>\n",
              "  .colab-df-quickchart {\n",
              "      --bg-color: #E8F0FE;\n",
              "      --fill-color: #1967D2;\n",
              "      --hover-bg-color: #E2EBFA;\n",
              "      --hover-fill-color: #174EA6;\n",
              "      --disabled-fill-color: #AAA;\n",
              "      --disabled-bg-color: #DDD;\n",
              "  }\n",
              "\n",
              "  [theme=dark] .colab-df-quickchart {\n",
              "      --bg-color: #3B4455;\n",
              "      --fill-color: #D2E3FC;\n",
              "      --hover-bg-color: #434B5C;\n",
              "      --hover-fill-color: #FFFFFF;\n",
              "      --disabled-bg-color: #3B4455;\n",
              "      --disabled-fill-color: #666;\n",
              "  }\n",
              "\n",
              "  .colab-df-quickchart {\n",
              "    background-color: var(--bg-color);\n",
              "    border: none;\n",
              "    border-radius: 50%;\n",
              "    cursor: pointer;\n",
              "    display: none;\n",
              "    fill: var(--fill-color);\n",
              "    height: 32px;\n",
              "    padding: 0;\n",
              "    width: 32px;\n",
              "  }\n",
              "\n",
              "  .colab-df-quickchart:hover {\n",
              "    background-color: var(--hover-bg-color);\n",
              "    box-shadow: 0 1px 2px rgba(60, 64, 67, 0.3), 0 1px 3px 1px rgba(60, 64, 67, 0.15);\n",
              "    fill: var(--button-hover-fill-color);\n",
              "  }\n",
              "\n",
              "  .colab-df-quickchart-complete:disabled,\n",
              "  .colab-df-quickchart-complete:disabled:hover {\n",
              "    background-color: var(--disabled-bg-color);\n",
              "    fill: var(--disabled-fill-color);\n",
              "    box-shadow: none;\n",
              "  }\n",
              "\n",
              "  .colab-df-spinner {\n",
              "    border: 2px solid var(--fill-color);\n",
              "    border-color: transparent;\n",
              "    border-bottom-color: var(--fill-color);\n",
              "    animation:\n",
              "      spin 1s steps(1) infinite;\n",
              "  }\n",
              "\n",
              "  @keyframes spin {\n",
              "    0% {\n",
              "      border-color: transparent;\n",
              "      border-bottom-color: var(--fill-color);\n",
              "      border-left-color: var(--fill-color);\n",
              "    }\n",
              "    20% {\n",
              "      border-color: transparent;\n",
              "      border-left-color: var(--fill-color);\n",
              "      border-top-color: var(--fill-color);\n",
              "    }\n",
              "    30% {\n",
              "      border-color: transparent;\n",
              "      border-left-color: var(--fill-color);\n",
              "      border-top-color: var(--fill-color);\n",
              "      border-right-color: var(--fill-color);\n",
              "    }\n",
              "    40% {\n",
              "      border-color: transparent;\n",
              "      border-right-color: var(--fill-color);\n",
              "      border-top-color: var(--fill-color);\n",
              "    }\n",
              "    60% {\n",
              "      border-color: transparent;\n",
              "      border-right-color: var(--fill-color);\n",
              "    }\n",
              "    80% {\n",
              "      border-color: transparent;\n",
              "      border-right-color: var(--fill-color);\n",
              "      border-bottom-color: var(--fill-color);\n",
              "    }\n",
              "    90% {\n",
              "      border-color: transparent;\n",
              "      border-bottom-color: var(--fill-color);\n",
              "    }\n",
              "  }\n",
              "</style>\n",
              "\n",
              "  <script>\n",
              "    async function quickchart(key) {\n",
              "      const quickchartButtonEl =\n",
              "        document.querySelector('#' + key + ' button');\n",
              "      quickchartButtonEl.disabled = true;  // To prevent multiple clicks.\n",
              "      quickchartButtonEl.classList.add('colab-df-spinner');\n",
              "      try {\n",
              "        const charts = await google.colab.kernel.invokeFunction(\n",
              "            'suggestCharts', [key], {});\n",
              "      } catch (error) {\n",
              "        console.error('Error during call to suggestCharts:', error);\n",
              "      }\n",
              "      quickchartButtonEl.classList.remove('colab-df-spinner');\n",
              "      quickchartButtonEl.classList.add('colab-df-quickchart-complete');\n",
              "    }\n",
              "    (() => {\n",
              "      let quickchartButtonEl =\n",
              "        document.querySelector('#df-8fa2e894-ff41-4f5c-8aae-7cba8651128d button');\n",
              "      quickchartButtonEl.style.display =\n",
              "        google.colab.kernel.accessAllowed ? 'block' : 'none';\n",
              "    })();\n",
              "  </script>\n",
              "</div>\n",
              "\n",
              "    </div>\n",
              "  </div>\n"
            ]
          },
          "metadata": {},
          "execution_count": 5
        }
      ],
      "source": [
        "gld.head()"
      ]
    },
    {
      "cell_type": "code",
      "execution_count": null,
      "metadata": {
        "colab": {
          "base_uri": "https://localhost:8080/",
          "height": 206
        },
        "id": "P3_OVr5KxSTF",
        "outputId": "d7914636-ba26-404b-bab5-77a626841f21"
      },
      "outputs": [
        {
          "output_type": "execute_result",
          "data": {
            "text/plain": [
              "           Date          SPX         GLD      USO      SLV   EUR/USD\n",
              "2285   5/8/2018  2671.919922  124.589996  14.0600  15.5100  1.186789\n",
              "2286   5/9/2018  2697.790039  124.330002  14.3700  15.5300  1.184722\n",
              "2287  5/10/2018  2723.070068  125.180000  14.4100  15.7400  1.191753\n",
              "2288  5/14/2018  2730.129883  124.489998  14.3800  15.5600  1.193118\n",
              "2289  5/16/2018  2725.780029  122.543800  14.4058  15.4542  1.182033"
            ],
            "text/html": [
              "\n",
              "  <div id=\"df-07d60c80-bf13-42d4-b928-cbf6b1d4fbce\" class=\"colab-df-container\">\n",
              "    <div>\n",
              "<style scoped>\n",
              "    .dataframe tbody tr th:only-of-type {\n",
              "        vertical-align: middle;\n",
              "    }\n",
              "\n",
              "    .dataframe tbody tr th {\n",
              "        vertical-align: top;\n",
              "    }\n",
              "\n",
              "    .dataframe thead th {\n",
              "        text-align: right;\n",
              "    }\n",
              "</style>\n",
              "<table border=\"1\" class=\"dataframe\">\n",
              "  <thead>\n",
              "    <tr style=\"text-align: right;\">\n",
              "      <th></th>\n",
              "      <th>Date</th>\n",
              "      <th>SPX</th>\n",
              "      <th>GLD</th>\n",
              "      <th>USO</th>\n",
              "      <th>SLV</th>\n",
              "      <th>EUR/USD</th>\n",
              "    </tr>\n",
              "  </thead>\n",
              "  <tbody>\n",
              "    <tr>\n",
              "      <th>2285</th>\n",
              "      <td>5/8/2018</td>\n",
              "      <td>2671.919922</td>\n",
              "      <td>124.589996</td>\n",
              "      <td>14.0600</td>\n",
              "      <td>15.5100</td>\n",
              "      <td>1.186789</td>\n",
              "    </tr>\n",
              "    <tr>\n",
              "      <th>2286</th>\n",
              "      <td>5/9/2018</td>\n",
              "      <td>2697.790039</td>\n",
              "      <td>124.330002</td>\n",
              "      <td>14.3700</td>\n",
              "      <td>15.5300</td>\n",
              "      <td>1.184722</td>\n",
              "    </tr>\n",
              "    <tr>\n",
              "      <th>2287</th>\n",
              "      <td>5/10/2018</td>\n",
              "      <td>2723.070068</td>\n",
              "      <td>125.180000</td>\n",
              "      <td>14.4100</td>\n",
              "      <td>15.7400</td>\n",
              "      <td>1.191753</td>\n",
              "    </tr>\n",
              "    <tr>\n",
              "      <th>2288</th>\n",
              "      <td>5/14/2018</td>\n",
              "      <td>2730.129883</td>\n",
              "      <td>124.489998</td>\n",
              "      <td>14.3800</td>\n",
              "      <td>15.5600</td>\n",
              "      <td>1.193118</td>\n",
              "    </tr>\n",
              "    <tr>\n",
              "      <th>2289</th>\n",
              "      <td>5/16/2018</td>\n",
              "      <td>2725.780029</td>\n",
              "      <td>122.543800</td>\n",
              "      <td>14.4058</td>\n",
              "      <td>15.4542</td>\n",
              "      <td>1.182033</td>\n",
              "    </tr>\n",
              "  </tbody>\n",
              "</table>\n",
              "</div>\n",
              "    <div class=\"colab-df-buttons\">\n",
              "\n",
              "  <div class=\"colab-df-container\">\n",
              "    <button class=\"colab-df-convert\" onclick=\"convertToInteractive('df-07d60c80-bf13-42d4-b928-cbf6b1d4fbce')\"\n",
              "            title=\"Convert this dataframe to an interactive table.\"\n",
              "            style=\"display:none;\">\n",
              "\n",
              "  <svg xmlns=\"http://www.w3.org/2000/svg\" height=\"24px\" viewBox=\"0 -960 960 960\">\n",
              "    <path d=\"M120-120v-720h720v720H120Zm60-500h600v-160H180v160Zm220 220h160v-160H400v160Zm0 220h160v-160H400v160ZM180-400h160v-160H180v160Zm440 0h160v-160H620v160ZM180-180h160v-160H180v160Zm440 0h160v-160H620v160Z\"/>\n",
              "  </svg>\n",
              "    </button>\n",
              "\n",
              "  <style>\n",
              "    .colab-df-container {\n",
              "      display:flex;\n",
              "      gap: 12px;\n",
              "    }\n",
              "\n",
              "    .colab-df-convert {\n",
              "      background-color: #E8F0FE;\n",
              "      border: none;\n",
              "      border-radius: 50%;\n",
              "      cursor: pointer;\n",
              "      display: none;\n",
              "      fill: #1967D2;\n",
              "      height: 32px;\n",
              "      padding: 0 0 0 0;\n",
              "      width: 32px;\n",
              "    }\n",
              "\n",
              "    .colab-df-convert:hover {\n",
              "      background-color: #E2EBFA;\n",
              "      box-shadow: 0px 1px 2px rgba(60, 64, 67, 0.3), 0px 1px 3px 1px rgba(60, 64, 67, 0.15);\n",
              "      fill: #174EA6;\n",
              "    }\n",
              "\n",
              "    .colab-df-buttons div {\n",
              "      margin-bottom: 4px;\n",
              "    }\n",
              "\n",
              "    [theme=dark] .colab-df-convert {\n",
              "      background-color: #3B4455;\n",
              "      fill: #D2E3FC;\n",
              "    }\n",
              "\n",
              "    [theme=dark] .colab-df-convert:hover {\n",
              "      background-color: #434B5C;\n",
              "      box-shadow: 0px 1px 3px 1px rgba(0, 0, 0, 0.15);\n",
              "      filter: drop-shadow(0px 1px 2px rgba(0, 0, 0, 0.3));\n",
              "      fill: #FFFFFF;\n",
              "    }\n",
              "  </style>\n",
              "\n",
              "    <script>\n",
              "      const buttonEl =\n",
              "        document.querySelector('#df-07d60c80-bf13-42d4-b928-cbf6b1d4fbce button.colab-df-convert');\n",
              "      buttonEl.style.display =\n",
              "        google.colab.kernel.accessAllowed ? 'block' : 'none';\n",
              "\n",
              "      async function convertToInteractive(key) {\n",
              "        const element = document.querySelector('#df-07d60c80-bf13-42d4-b928-cbf6b1d4fbce');\n",
              "        const dataTable =\n",
              "          await google.colab.kernel.invokeFunction('convertToInteractive',\n",
              "                                                    [key], {});\n",
              "        if (!dataTable) return;\n",
              "\n",
              "        const docLinkHtml = 'Like what you see? Visit the ' +\n",
              "          '<a target=\"_blank\" href=https://colab.research.google.com/notebooks/data_table.ipynb>data table notebook</a>'\n",
              "          + ' to learn more about interactive tables.';\n",
              "        element.innerHTML = '';\n",
              "        dataTable['output_type'] = 'display_data';\n",
              "        await google.colab.output.renderOutput(dataTable, element);\n",
              "        const docLink = document.createElement('div');\n",
              "        docLink.innerHTML = docLinkHtml;\n",
              "        element.appendChild(docLink);\n",
              "      }\n",
              "    </script>\n",
              "  </div>\n",
              "\n",
              "\n",
              "<div id=\"df-d03686bb-5ce4-4d39-b13d-4484c0edefbe\">\n",
              "  <button class=\"colab-df-quickchart\" onclick=\"quickchart('df-d03686bb-5ce4-4d39-b13d-4484c0edefbe')\"\n",
              "            title=\"Suggest charts\"\n",
              "            style=\"display:none;\">\n",
              "\n",
              "<svg xmlns=\"http://www.w3.org/2000/svg\" height=\"24px\"viewBox=\"0 0 24 24\"\n",
              "     width=\"24px\">\n",
              "    <g>\n",
              "        <path d=\"M19 3H5c-1.1 0-2 .9-2 2v14c0 1.1.9 2 2 2h14c1.1 0 2-.9 2-2V5c0-1.1-.9-2-2-2zM9 17H7v-7h2v7zm4 0h-2V7h2v10zm4 0h-2v-4h2v4z\"/>\n",
              "    </g>\n",
              "</svg>\n",
              "  </button>\n",
              "\n",
              "<style>\n",
              "  .colab-df-quickchart {\n",
              "      --bg-color: #E8F0FE;\n",
              "      --fill-color: #1967D2;\n",
              "      --hover-bg-color: #E2EBFA;\n",
              "      --hover-fill-color: #174EA6;\n",
              "      --disabled-fill-color: #AAA;\n",
              "      --disabled-bg-color: #DDD;\n",
              "  }\n",
              "\n",
              "  [theme=dark] .colab-df-quickchart {\n",
              "      --bg-color: #3B4455;\n",
              "      --fill-color: #D2E3FC;\n",
              "      --hover-bg-color: #434B5C;\n",
              "      --hover-fill-color: #FFFFFF;\n",
              "      --disabled-bg-color: #3B4455;\n",
              "      --disabled-fill-color: #666;\n",
              "  }\n",
              "\n",
              "  .colab-df-quickchart {\n",
              "    background-color: var(--bg-color);\n",
              "    border: none;\n",
              "    border-radius: 50%;\n",
              "    cursor: pointer;\n",
              "    display: none;\n",
              "    fill: var(--fill-color);\n",
              "    height: 32px;\n",
              "    padding: 0;\n",
              "    width: 32px;\n",
              "  }\n",
              "\n",
              "  .colab-df-quickchart:hover {\n",
              "    background-color: var(--hover-bg-color);\n",
              "    box-shadow: 0 1px 2px rgba(60, 64, 67, 0.3), 0 1px 3px 1px rgba(60, 64, 67, 0.15);\n",
              "    fill: var(--button-hover-fill-color);\n",
              "  }\n",
              "\n",
              "  .colab-df-quickchart-complete:disabled,\n",
              "  .colab-df-quickchart-complete:disabled:hover {\n",
              "    background-color: var(--disabled-bg-color);\n",
              "    fill: var(--disabled-fill-color);\n",
              "    box-shadow: none;\n",
              "  }\n",
              "\n",
              "  .colab-df-spinner {\n",
              "    border: 2px solid var(--fill-color);\n",
              "    border-color: transparent;\n",
              "    border-bottom-color: var(--fill-color);\n",
              "    animation:\n",
              "      spin 1s steps(1) infinite;\n",
              "  }\n",
              "\n",
              "  @keyframes spin {\n",
              "    0% {\n",
              "      border-color: transparent;\n",
              "      border-bottom-color: var(--fill-color);\n",
              "      border-left-color: var(--fill-color);\n",
              "    }\n",
              "    20% {\n",
              "      border-color: transparent;\n",
              "      border-left-color: var(--fill-color);\n",
              "      border-top-color: var(--fill-color);\n",
              "    }\n",
              "    30% {\n",
              "      border-color: transparent;\n",
              "      border-left-color: var(--fill-color);\n",
              "      border-top-color: var(--fill-color);\n",
              "      border-right-color: var(--fill-color);\n",
              "    }\n",
              "    40% {\n",
              "      border-color: transparent;\n",
              "      border-right-color: var(--fill-color);\n",
              "      border-top-color: var(--fill-color);\n",
              "    }\n",
              "    60% {\n",
              "      border-color: transparent;\n",
              "      border-right-color: var(--fill-color);\n",
              "    }\n",
              "    80% {\n",
              "      border-color: transparent;\n",
              "      border-right-color: var(--fill-color);\n",
              "      border-bottom-color: var(--fill-color);\n",
              "    }\n",
              "    90% {\n",
              "      border-color: transparent;\n",
              "      border-bottom-color: var(--fill-color);\n",
              "    }\n",
              "  }\n",
              "</style>\n",
              "\n",
              "  <script>\n",
              "    async function quickchart(key) {\n",
              "      const quickchartButtonEl =\n",
              "        document.querySelector('#' + key + ' button');\n",
              "      quickchartButtonEl.disabled = true;  // To prevent multiple clicks.\n",
              "      quickchartButtonEl.classList.add('colab-df-spinner');\n",
              "      try {\n",
              "        const charts = await google.colab.kernel.invokeFunction(\n",
              "            'suggestCharts', [key], {});\n",
              "      } catch (error) {\n",
              "        console.error('Error during call to suggestCharts:', error);\n",
              "      }\n",
              "      quickchartButtonEl.classList.remove('colab-df-spinner');\n",
              "      quickchartButtonEl.classList.add('colab-df-quickchart-complete');\n",
              "    }\n",
              "    (() => {\n",
              "      let quickchartButtonEl =\n",
              "        document.querySelector('#df-d03686bb-5ce4-4d39-b13d-4484c0edefbe button');\n",
              "      quickchartButtonEl.style.display =\n",
              "        google.colab.kernel.accessAllowed ? 'block' : 'none';\n",
              "    })();\n",
              "  </script>\n",
              "</div>\n",
              "\n",
              "    </div>\n",
              "  </div>\n"
            ]
          },
          "metadata": {},
          "execution_count": 6
        }
      ],
      "source": [
        "gld.tail()"
      ]
    },
    {
      "cell_type": "code",
      "execution_count": null,
      "metadata": {
        "colab": {
          "base_uri": "https://localhost:8080/"
        },
        "id": "eB6SVQVs4xJN",
        "outputId": "7b58f9e6-f546-412f-b956-71c67ebf019a"
      },
      "outputs": [
        {
          "output_type": "execute_result",
          "data": {
            "text/plain": [
              "(2290, 6)"
            ]
          },
          "metadata": {},
          "execution_count": 7
        }
      ],
      "source": [
        "gld.shape"
      ]
    },
    {
      "cell_type": "code",
      "execution_count": null,
      "metadata": {
        "colab": {
          "base_uri": "https://localhost:8080/"
        },
        "id": "fDjGiWG-457h",
        "outputId": "807dba40-1a5a-4d68-b108-3867b8f068cb"
      },
      "outputs": [
        {
          "output_type": "stream",
          "name": "stdout",
          "text": [
            "<class 'pandas.core.frame.DataFrame'>\n",
            "RangeIndex: 2290 entries, 0 to 2289\n",
            "Data columns (total 6 columns):\n",
            " #   Column   Non-Null Count  Dtype  \n",
            "---  ------   --------------  -----  \n",
            " 0   Date     2290 non-null   object \n",
            " 1   SPX      2290 non-null   float64\n",
            " 2   GLD      2290 non-null   float64\n",
            " 3   USO      2290 non-null   float64\n",
            " 4   SLV      2290 non-null   float64\n",
            " 5   EUR/USD  2290 non-null   float64\n",
            "dtypes: float64(5), object(1)\n",
            "memory usage: 107.5+ KB\n"
          ]
        }
      ],
      "source": [
        "gld.info()\n"
      ]
    },
    {
      "cell_type": "code",
      "execution_count": null,
      "metadata": {
        "colab": {
          "base_uri": "https://localhost:8080/",
          "height": 300
        },
        "id": "zVasDbtc5Mlc",
        "outputId": "2a3fde6a-819d-418a-da93-f11cbc7b095f"
      },
      "outputs": [
        {
          "output_type": "execute_result",
          "data": {
            "text/plain": [
              "               SPX          GLD          USO          SLV      EUR/USD\n",
              "count  2290.000000  2290.000000  2290.000000  2290.000000  2290.000000\n",
              "mean   1654.315776   122.732875    31.842221    20.084997     1.283653\n",
              "std     519.111540    23.283346    19.523517     7.092566     0.131547\n",
              "min     676.530029    70.000000     7.960000     8.850000     1.039047\n",
              "25%    1239.874969   109.725000    14.380000    15.570000     1.171313\n",
              "50%    1551.434998   120.580002    33.869999    17.268500     1.303297\n",
              "75%    2073.010070   132.840004    37.827501    22.882500     1.369971\n",
              "max    2872.870117   184.589996   117.480003    47.259998     1.598798"
            ],
            "text/html": [
              "\n",
              "  <div id=\"df-81b58bd9-6d82-4da0-bcb9-a5d6d6fb58c8\" class=\"colab-df-container\">\n",
              "    <div>\n",
              "<style scoped>\n",
              "    .dataframe tbody tr th:only-of-type {\n",
              "        vertical-align: middle;\n",
              "    }\n",
              "\n",
              "    .dataframe tbody tr th {\n",
              "        vertical-align: top;\n",
              "    }\n",
              "\n",
              "    .dataframe thead th {\n",
              "        text-align: right;\n",
              "    }\n",
              "</style>\n",
              "<table border=\"1\" class=\"dataframe\">\n",
              "  <thead>\n",
              "    <tr style=\"text-align: right;\">\n",
              "      <th></th>\n",
              "      <th>SPX</th>\n",
              "      <th>GLD</th>\n",
              "      <th>USO</th>\n",
              "      <th>SLV</th>\n",
              "      <th>EUR/USD</th>\n",
              "    </tr>\n",
              "  </thead>\n",
              "  <tbody>\n",
              "    <tr>\n",
              "      <th>count</th>\n",
              "      <td>2290.000000</td>\n",
              "      <td>2290.000000</td>\n",
              "      <td>2290.000000</td>\n",
              "      <td>2290.000000</td>\n",
              "      <td>2290.000000</td>\n",
              "    </tr>\n",
              "    <tr>\n",
              "      <th>mean</th>\n",
              "      <td>1654.315776</td>\n",
              "      <td>122.732875</td>\n",
              "      <td>31.842221</td>\n",
              "      <td>20.084997</td>\n",
              "      <td>1.283653</td>\n",
              "    </tr>\n",
              "    <tr>\n",
              "      <th>std</th>\n",
              "      <td>519.111540</td>\n",
              "      <td>23.283346</td>\n",
              "      <td>19.523517</td>\n",
              "      <td>7.092566</td>\n",
              "      <td>0.131547</td>\n",
              "    </tr>\n",
              "    <tr>\n",
              "      <th>min</th>\n",
              "      <td>676.530029</td>\n",
              "      <td>70.000000</td>\n",
              "      <td>7.960000</td>\n",
              "      <td>8.850000</td>\n",
              "      <td>1.039047</td>\n",
              "    </tr>\n",
              "    <tr>\n",
              "      <th>25%</th>\n",
              "      <td>1239.874969</td>\n",
              "      <td>109.725000</td>\n",
              "      <td>14.380000</td>\n",
              "      <td>15.570000</td>\n",
              "      <td>1.171313</td>\n",
              "    </tr>\n",
              "    <tr>\n",
              "      <th>50%</th>\n",
              "      <td>1551.434998</td>\n",
              "      <td>120.580002</td>\n",
              "      <td>33.869999</td>\n",
              "      <td>17.268500</td>\n",
              "      <td>1.303297</td>\n",
              "    </tr>\n",
              "    <tr>\n",
              "      <th>75%</th>\n",
              "      <td>2073.010070</td>\n",
              "      <td>132.840004</td>\n",
              "      <td>37.827501</td>\n",
              "      <td>22.882500</td>\n",
              "      <td>1.369971</td>\n",
              "    </tr>\n",
              "    <tr>\n",
              "      <th>max</th>\n",
              "      <td>2872.870117</td>\n",
              "      <td>184.589996</td>\n",
              "      <td>117.480003</td>\n",
              "      <td>47.259998</td>\n",
              "      <td>1.598798</td>\n",
              "    </tr>\n",
              "  </tbody>\n",
              "</table>\n",
              "</div>\n",
              "    <div class=\"colab-df-buttons\">\n",
              "\n",
              "  <div class=\"colab-df-container\">\n",
              "    <button class=\"colab-df-convert\" onclick=\"convertToInteractive('df-81b58bd9-6d82-4da0-bcb9-a5d6d6fb58c8')\"\n",
              "            title=\"Convert this dataframe to an interactive table.\"\n",
              "            style=\"display:none;\">\n",
              "\n",
              "  <svg xmlns=\"http://www.w3.org/2000/svg\" height=\"24px\" viewBox=\"0 -960 960 960\">\n",
              "    <path d=\"M120-120v-720h720v720H120Zm60-500h600v-160H180v160Zm220 220h160v-160H400v160Zm0 220h160v-160H400v160ZM180-400h160v-160H180v160Zm440 0h160v-160H620v160ZM180-180h160v-160H180v160Zm440 0h160v-160H620v160Z\"/>\n",
              "  </svg>\n",
              "    </button>\n",
              "\n",
              "  <style>\n",
              "    .colab-df-container {\n",
              "      display:flex;\n",
              "      gap: 12px;\n",
              "    }\n",
              "\n",
              "    .colab-df-convert {\n",
              "      background-color: #E8F0FE;\n",
              "      border: none;\n",
              "      border-radius: 50%;\n",
              "      cursor: pointer;\n",
              "      display: none;\n",
              "      fill: #1967D2;\n",
              "      height: 32px;\n",
              "      padding: 0 0 0 0;\n",
              "      width: 32px;\n",
              "    }\n",
              "\n",
              "    .colab-df-convert:hover {\n",
              "      background-color: #E2EBFA;\n",
              "      box-shadow: 0px 1px 2px rgba(60, 64, 67, 0.3), 0px 1px 3px 1px rgba(60, 64, 67, 0.15);\n",
              "      fill: #174EA6;\n",
              "    }\n",
              "\n",
              "    .colab-df-buttons div {\n",
              "      margin-bottom: 4px;\n",
              "    }\n",
              "\n",
              "    [theme=dark] .colab-df-convert {\n",
              "      background-color: #3B4455;\n",
              "      fill: #D2E3FC;\n",
              "    }\n",
              "\n",
              "    [theme=dark] .colab-df-convert:hover {\n",
              "      background-color: #434B5C;\n",
              "      box-shadow: 0px 1px 3px 1px rgba(0, 0, 0, 0.15);\n",
              "      filter: drop-shadow(0px 1px 2px rgba(0, 0, 0, 0.3));\n",
              "      fill: #FFFFFF;\n",
              "    }\n",
              "  </style>\n",
              "\n",
              "    <script>\n",
              "      const buttonEl =\n",
              "        document.querySelector('#df-81b58bd9-6d82-4da0-bcb9-a5d6d6fb58c8 button.colab-df-convert');\n",
              "      buttonEl.style.display =\n",
              "        google.colab.kernel.accessAllowed ? 'block' : 'none';\n",
              "\n",
              "      async function convertToInteractive(key) {\n",
              "        const element = document.querySelector('#df-81b58bd9-6d82-4da0-bcb9-a5d6d6fb58c8');\n",
              "        const dataTable =\n",
              "          await google.colab.kernel.invokeFunction('convertToInteractive',\n",
              "                                                    [key], {});\n",
              "        if (!dataTable) return;\n",
              "\n",
              "        const docLinkHtml = 'Like what you see? Visit the ' +\n",
              "          '<a target=\"_blank\" href=https://colab.research.google.com/notebooks/data_table.ipynb>data table notebook</a>'\n",
              "          + ' to learn more about interactive tables.';\n",
              "        element.innerHTML = '';\n",
              "        dataTable['output_type'] = 'display_data';\n",
              "        await google.colab.output.renderOutput(dataTable, element);\n",
              "        const docLink = document.createElement('div');\n",
              "        docLink.innerHTML = docLinkHtml;\n",
              "        element.appendChild(docLink);\n",
              "      }\n",
              "    </script>\n",
              "  </div>\n",
              "\n",
              "\n",
              "<div id=\"df-326a4f7c-6cf7-436f-a1ec-61d07815adac\">\n",
              "  <button class=\"colab-df-quickchart\" onclick=\"quickchart('df-326a4f7c-6cf7-436f-a1ec-61d07815adac')\"\n",
              "            title=\"Suggest charts\"\n",
              "            style=\"display:none;\">\n",
              "\n",
              "<svg xmlns=\"http://www.w3.org/2000/svg\" height=\"24px\"viewBox=\"0 0 24 24\"\n",
              "     width=\"24px\">\n",
              "    <g>\n",
              "        <path d=\"M19 3H5c-1.1 0-2 .9-2 2v14c0 1.1.9 2 2 2h14c1.1 0 2-.9 2-2V5c0-1.1-.9-2-2-2zM9 17H7v-7h2v7zm4 0h-2V7h2v10zm4 0h-2v-4h2v4z\"/>\n",
              "    </g>\n",
              "</svg>\n",
              "  </button>\n",
              "\n",
              "<style>\n",
              "  .colab-df-quickchart {\n",
              "      --bg-color: #E8F0FE;\n",
              "      --fill-color: #1967D2;\n",
              "      --hover-bg-color: #E2EBFA;\n",
              "      --hover-fill-color: #174EA6;\n",
              "      --disabled-fill-color: #AAA;\n",
              "      --disabled-bg-color: #DDD;\n",
              "  }\n",
              "\n",
              "  [theme=dark] .colab-df-quickchart {\n",
              "      --bg-color: #3B4455;\n",
              "      --fill-color: #D2E3FC;\n",
              "      --hover-bg-color: #434B5C;\n",
              "      --hover-fill-color: #FFFFFF;\n",
              "      --disabled-bg-color: #3B4455;\n",
              "      --disabled-fill-color: #666;\n",
              "  }\n",
              "\n",
              "  .colab-df-quickchart {\n",
              "    background-color: var(--bg-color);\n",
              "    border: none;\n",
              "    border-radius: 50%;\n",
              "    cursor: pointer;\n",
              "    display: none;\n",
              "    fill: var(--fill-color);\n",
              "    height: 32px;\n",
              "    padding: 0;\n",
              "    width: 32px;\n",
              "  }\n",
              "\n",
              "  .colab-df-quickchart:hover {\n",
              "    background-color: var(--hover-bg-color);\n",
              "    box-shadow: 0 1px 2px rgba(60, 64, 67, 0.3), 0 1px 3px 1px rgba(60, 64, 67, 0.15);\n",
              "    fill: var(--button-hover-fill-color);\n",
              "  }\n",
              "\n",
              "  .colab-df-quickchart-complete:disabled,\n",
              "  .colab-df-quickchart-complete:disabled:hover {\n",
              "    background-color: var(--disabled-bg-color);\n",
              "    fill: var(--disabled-fill-color);\n",
              "    box-shadow: none;\n",
              "  }\n",
              "\n",
              "  .colab-df-spinner {\n",
              "    border: 2px solid var(--fill-color);\n",
              "    border-color: transparent;\n",
              "    border-bottom-color: var(--fill-color);\n",
              "    animation:\n",
              "      spin 1s steps(1) infinite;\n",
              "  }\n",
              "\n",
              "  @keyframes spin {\n",
              "    0% {\n",
              "      border-color: transparent;\n",
              "      border-bottom-color: var(--fill-color);\n",
              "      border-left-color: var(--fill-color);\n",
              "    }\n",
              "    20% {\n",
              "      border-color: transparent;\n",
              "      border-left-color: var(--fill-color);\n",
              "      border-top-color: var(--fill-color);\n",
              "    }\n",
              "    30% {\n",
              "      border-color: transparent;\n",
              "      border-left-color: var(--fill-color);\n",
              "      border-top-color: var(--fill-color);\n",
              "      border-right-color: var(--fill-color);\n",
              "    }\n",
              "    40% {\n",
              "      border-color: transparent;\n",
              "      border-right-color: var(--fill-color);\n",
              "      border-top-color: var(--fill-color);\n",
              "    }\n",
              "    60% {\n",
              "      border-color: transparent;\n",
              "      border-right-color: var(--fill-color);\n",
              "    }\n",
              "    80% {\n",
              "      border-color: transparent;\n",
              "      border-right-color: var(--fill-color);\n",
              "      border-bottom-color: var(--fill-color);\n",
              "    }\n",
              "    90% {\n",
              "      border-color: transparent;\n",
              "      border-bottom-color: var(--fill-color);\n",
              "    }\n",
              "  }\n",
              "</style>\n",
              "\n",
              "  <script>\n",
              "    async function quickchart(key) {\n",
              "      const quickchartButtonEl =\n",
              "        document.querySelector('#' + key + ' button');\n",
              "      quickchartButtonEl.disabled = true;  // To prevent multiple clicks.\n",
              "      quickchartButtonEl.classList.add('colab-df-spinner');\n",
              "      try {\n",
              "        const charts = await google.colab.kernel.invokeFunction(\n",
              "            'suggestCharts', [key], {});\n",
              "      } catch (error) {\n",
              "        console.error('Error during call to suggestCharts:', error);\n",
              "      }\n",
              "      quickchartButtonEl.classList.remove('colab-df-spinner');\n",
              "      quickchartButtonEl.classList.add('colab-df-quickchart-complete');\n",
              "    }\n",
              "    (() => {\n",
              "      let quickchartButtonEl =\n",
              "        document.querySelector('#df-326a4f7c-6cf7-436f-a1ec-61d07815adac button');\n",
              "      quickchartButtonEl.style.display =\n",
              "        google.colab.kernel.accessAllowed ? 'block' : 'none';\n",
              "    })();\n",
              "  </script>\n",
              "</div>\n",
              "\n",
              "    </div>\n",
              "  </div>\n"
            ]
          },
          "metadata": {},
          "execution_count": 9
        }
      ],
      "source": [
        "gld.describe()"
      ]
    },
    {
      "cell_type": "markdown",
      "metadata": {
        "id": "ETiXRCiI6GuU"
      },
      "source": [
        "There are two types of correlation :\n",
        "1. Positive correlation - when one value of a certain column in creases , same value of other column also increases.\n",
        "2. Negative correlation - when one value of a certain column in creases , same value of other column also decreases."
      ]
    },
    {
      "cell_type": "code",
      "execution_count": null,
      "metadata": {
        "colab": {
          "base_uri": "https://localhost:8080/"
        },
        "id": "A1mut-Ff5t0-",
        "outputId": "e8ce5215-68bc-45f2-8c86-4e58e5b5d924"
      },
      "outputs": [
        {
          "output_type": "stream",
          "name": "stderr",
          "text": [
            "<ipython-input-10-989d92380e13>:1: FutureWarning: The default value of numeric_only in DataFrame.corr is deprecated. In a future version, it will default to False. Select only valid columns or specify the value of numeric_only to silence this warning.\n",
            "  correlation=gld.corr()\n"
          ]
        }
      ],
      "source": [
        "correlation=gld.corr()"
      ]
    },
    {
      "cell_type": "code",
      "execution_count": null,
      "metadata": {
        "colab": {
          "base_uri": "https://localhost:8080/"
        },
        "id": "0OJPn8QWQApS",
        "outputId": "1f03085b-83b1-45d7-c0d5-46307fcd99e5"
      },
      "outputs": [
        {
          "output_type": "stream",
          "name": "stdout",
          "text": [
            "              SPX       GLD       USO       SLV   EUR/USD\n",
            "SPX      1.000000  0.049345 -0.591573 -0.274055 -0.672017\n",
            "GLD      0.049345  1.000000 -0.186360  0.866632 -0.024375\n",
            "USO     -0.591573 -0.186360  1.000000  0.167547  0.829317\n",
            "SLV     -0.274055  0.866632  0.167547  1.000000  0.321631\n",
            "EUR/USD -0.672017 -0.024375  0.829317  0.321631  1.000000\n"
          ]
        }
      ],
      "source": [
        "print(correlation)\n",
        "%matplotlib inline"
      ]
    },
    {
      "cell_type": "markdown",
      "metadata": {
        "id": "TfgqfgrctFVF"
      },
      "source": [
        "Constructing a heatmap to understand the correlation."
      ]
    },
    {
      "cell_type": "code",
      "execution_count": null,
      "metadata": {
        "colab": {
          "base_uri": "https://localhost:8080/",
          "height": 675
        },
        "id": "nsPwf-JXtBdT",
        "outputId": "a23612dc-b107-44e0-a583-16782277036c"
      },
      "outputs": [
        {
          "output_type": "execute_result",
          "data": {
            "text/plain": [
              "<Axes: >"
            ]
          },
          "metadata": {},
          "execution_count": 12
        },
        {
          "output_type": "display_data",
          "data": {
            "text/plain": [
              "<Figure size 800x800 with 2 Axes>"
            ],
            "image/png": "[encoded data removed]"
          },
          "metadata": {}
        }
      ],
      "source": [
        "plt.figure(figsize=(8,8))\n",
        "sns.heatmap(correlation, cbar=True, square=True,fmt='.1f',annot=True,annot_kws={'size':8},cmap=\"Greens\")"
      ]
    },
    {
      "cell_type": "code",
      "execution_count": null,
      "metadata": {
        "colab": {
          "base_uri": "https://localhost:8080/"
        },
        "id": "Q9DXo0TxuBml",
        "outputId": "1c4d2be9-6a12-4494-f6f3-44d5a97e56a6"
      },
      "outputs": [
        {
          "output_type": "stream",
          "name": "stdout",
          "text": [
            "SPX        0.049345\n",
            "GLD        1.000000\n",
            "USO       -0.186360\n",
            "SLV        0.866632\n",
            "EUR/USD   -0.024375\n",
            "Name: GLD, dtype: float64\n"
          ]
        }
      ],
      "source": [
        "print(correlation['GLD'])"
      ]
    },
    {
      "cell_type": "code",
      "execution_count": null,
      "metadata": {
        "colab": {
          "base_uri": "https://localhost:8080/",
          "height": 523
        },
        "id": "wqXOLNKtu6ME",
        "outputId": "0dc52c9a-5d07-4eee-bce4-e4713cf2daf8"
      },
      "outputs": [
        {
          "output_type": "execute_result",
          "data": {
            "text/plain": [
              "<seaborn.axisgrid.FacetGrid at 0x7e0f22e4bd60>"
            ]
          },
          "metadata": {},
          "execution_count": 14
        },
        {
          "output_type": "display_data",
          "data": {
            "text/plain": [
              "<Figure size 500x500 with 1 Axes>"
            ],
            "image/png": "[encoded data removed]"
          },
          "metadata": {}
        }
      ],
      "source": [
        "sns.displot(gld['GLD'],color='blue')"
      ]
    },
    {
      "cell_type": "markdown",
      "metadata": {
        "id": "2QJXZJjJ5gAf"
      },
      "source": [
        "Now seperating gold column and date column"
      ]
    },
    {
      "cell_type": "code",
      "execution_count": null,
      "metadata": {
        "id": "qiXSCLxcveYT"
      },
      "outputs": [],
      "source": [
        "X=gld.drop(['Date','GLD'],axis=1)\n",
        "Y=gld['GLD']"
      ]
    },
    {
      "cell_type": "markdown",
      "metadata": {
        "id": "T1GraouR6BVp"
      },
      "source": [
        "Splitting into training data and testing data"
      ]
    },
    {
      "cell_type": "code",
      "execution_count": null,
      "metadata": {
        "id": "ItrPAXf65s64"
      },
      "outputs": [],
      "source": [
        "X_train, X_test, Y_train, Y_test = train_test_split(X,Y,test_size=0.2,random_state=2)"
      ]
    },
    {
      "cell_type": "markdown",
      "metadata": {
        "id": "ZFQ_9kWz65cn"
      },
      "source": [
        "Model Training:\n",
        "RANDOM FOREST"
      ]
    },
    {
      "cell_type": "code",
      "execution_count": null,
      "metadata": {
        "colab": {
          "base_uri": "https://localhost:8080/",
          "height": 74
        },
        "id": "IJpI_F2D64lN",
        "outputId": "205df7d6-f0e9-47b7-b71b-ca9feb045fc6"
      },
      "outputs": [
        {
          "output_type": "execute_result",
          "data": {
            "text/plain": [
              "RandomForestRegressor()"
            ],
            "text/html": [
              "<style>#sk-container-id-1 {color: black;background-color: white;}#sk-container-id-1 pre{padding: 0;}#sk-container-id-1 div.sk-toggleable {background-color: white;}#sk-container-id-1 label.sk-toggleable__label {cursor: pointer;display: block;width: 100%;margin-bottom: 0;padding: 0.3em;box-sizing: border-box;text-align: center;}#sk-container-id-1 label.sk-toggleable__label-arrow:before {content: \"▸\";float: left;margin-right: 0.25em;color: #696969;}#sk-container-id-1 label.sk-toggleable__label-arrow:hover:before {color: black;}#sk-container-id-1 div.sk-estimator:hover label.sk-toggleable__label-arrow:before {color: black;}#sk-container-id-1 div.sk-toggleable__content {max-height: 0;max-width: 0;overflow: hidden;text-align: left;background-color: #f0f8ff;}#sk-container-id-1 div.sk-toggleable__content pre {margin: 0.2em;color: black;border-radius: 0.25em;background-color: #f0f8ff;}#sk-container-id-1 input.sk-toggleable__control:checked~div.sk-toggleable__content {max-height: 200px;max-width: 100%;overflow: auto;}#sk-container-id-1 input.sk-toggleable__control:checked~label.sk-toggleable__label-arrow:before {content: \"▾\";}#sk-container-id-1 div.sk-estimator input.sk-toggleable__control:checked~label.sk-toggleable__label {background-color: #d4ebff;}#sk-container-id-1 div.sk-label input.sk-toggleable__control:checked~label.sk-toggleable__label {background-color: #d4ebff;}#sk-container-id-1 input.sk-hidden--visually {border: 0;clip: rect(1px 1px 1px 1px);clip: rect(1px, 1px, 1px, 1px);height: 1px;margin: -1px;overflow: hidden;padding: 0;position: absolute;width: 1px;}#sk-container-id-1 div.sk-estimator {font-family: monospace;background-color: #f0f8ff;border: 1px dotted black;border-radius: 0.25em;box-sizing: border-box;margin-bottom: 0.5em;}#sk-container-id-1 div.sk-estimator:hover {background-color: #d4ebff;}#sk-container-id-1 div.sk-parallel-item::after {content: \"\";width: 100%;border-bottom: 1px solid gray;flex-grow: 1;}#sk-container-id-1 div.sk-label:hover label.sk-toggleable__label {background-color: #d4ebff;}#sk-container-id-1 div.sk-serial::before {content: \"\";position: absolute;border-left: 1px solid gray;box-sizing: border-box;top: 0;bottom: 0;left: 50%;z-index: 0;}#sk-container-id-1 div.sk-serial {display: flex;flex-direction: column;align-items: center;background-color: white;padding-right: 0.2em;padding-left: 0.2em;position: relative;}#sk-container-id-1 div.sk-item {position: relative;z-index: 1;}#sk-container-id-1 div.sk-parallel {display: flex;align-items: stretch;justify-content: center;background-color: white;position: relative;}#sk-container-id-1 div.sk-item::before, #sk-container-id-1 div.sk-parallel-item::before {content: \"\";position: absolute;border-left: 1px solid gray;box-sizing: border-box;top: 0;bottom: 0;left: 50%;z-index: -1;}#sk-container-id-1 div.sk-parallel-item {display: flex;flex-direction: column;z-index: 1;position: relative;background-color: white;}#sk-container-id-1 div.sk-parallel-item:first-child::after {align-self: flex-end;width: 50%;}#sk-container-id-1 div.sk-parallel-item:last-child::after {align-self: flex-start;width: 50%;}#sk-container-id-1 div.sk-parallel-item:only-child::after {width: 0;}#sk-container-id-1 div.sk-dashed-wrapped {border: 1px dashed gray;margin: 0 0.4em 0.5em 0.4em;box-sizing: border-box;padding-bottom: 0.4em;background-color: white;}#sk-container-id-1 div.sk-label label {font-family: monospace;font-weight: bold;display: inline-block;line-height: 1.2em;}#sk-container-id-1 div.sk-label-container {text-align: center;}#sk-container-id-1 div.sk-container {/* jupyter's `normalize.less` sets `[hidden] { display: none; }` but bootstrap.min.css set `[hidden] { display: none !important; }` so we also need the `!important` here to be able to override the default hidden behavior on the sphinx rendered scikit-learn.org. See: https://github.com/scikit-learn/scikit-learn/issues/21755 */display: inline-block !important;position: relative;}#sk-container-id-1 div.sk-text-repr-fallback {display: none;}</style><div id=\"sk-container-id-1\" class=\"sk-top-container\"><div class=\"sk-text-repr-fallback\"><pre>RandomForestRegressor()</pre><b>In a Jupyter environment, please rerun this cell to show the HTML representation or trust the notebook. <br />On GitHub, the HTML representation is unable to render, please try loading this page with nbviewer.org.</b></div><div class=\"sk-container\" hidden><div class=\"sk-item\"><div class=\"sk-estimator sk-toggleable\"><input class=\"sk-toggleable__control sk-hidden--visually\" id=\"sk-estimator-id-1\" type=\"checkbox\" checked><label for=\"sk-estimator-id-1\" class=\"sk-toggleable__label sk-toggleable__label-arrow\">RandomForestRegressor</label><div class=\"sk-toggleable__content\"><pre>RandomForestRegressor()</pre></div></div></div></div></div>"
            ]
          },
          "metadata": {},
          "execution_count": 17
        }
      ],
      "source": [
        "regressor=RandomForestRegressor(n_estimators=100)\n",
        "regressor.fit(X_train,Y_train)"
      ]
    },
    {
      "cell_type": "markdown",
      "metadata": {
        "id": "rCkFc3fm8BeF"
      },
      "source": [
        "Model Evaluation"
      ]
    },
    {
      "cell_type": "code",
      "source": [
        "print(Y_train.dtype)\n",
        "print(Y_test.dtype)"
      ],
      "metadata": {
        "colab": {
          "base_uri": "https://localhost:8080/"
        },
        "id": "SBDuT8PEEXjS",
        "outputId": "c82fddf5-4d0d-4489-a57e-2f5ed3f2bc92"
      },
      "execution_count": null,
      "outputs": [
        {
          "output_type": "stream",
          "name": "stdout",
          "text": [
            "float64\n",
            "float64\n"
          ]
        }
      ]
    },
    {
      "cell_type": "code",
      "source": [
        "from sklearn.metrics import accuracy_score\n",
        "from sklearn.metrics import mean_squared_error\n",
        "mse_train = mean_squared_error(Y_train, regressor.predict(X_train))\n",
        "mse_test = mean_squared_error(Y_test, regressor.predict(X_test))\n",
        "\n",
        "print('Train data MSE: ', mse_train)\n",
        "print('Test data MSE: ', mse_test)"
      ],
      "metadata": {
        "colab": {
          "base_uri": "https://localhost:8080/"
        },
        "id": "54pPYkPyDntb",
        "outputId": "103ff402-da64-4fb6-f344-1f50d13c0935"
      },
      "execution_count": null,
      "outputs": [
        {
          "output_type": "stream",
          "name": "stdout",
          "text": [
            "Train data MSE:  0.8682848872122246\n",
            "Test data MSE:  5.933302640734578\n"
          ]
        }
      ]
    },
    {
      "cell_type": "code",
      "execution_count": null,
      "metadata": {
        "id": "u6NZLWql75IU"
      },
      "outputs": [],
      "source": [
        "test_pred=regressor.predict(X_test)"
      ]
    },
    {
      "cell_type": "code",
      "execution_count": null,
      "metadata": {
        "colab": {
          "base_uri": "https://localhost:8080/"
        },
        "id": "PATp4PQ_8PDc",
        "outputId": "22f81ff6-8998-46b2-a5b2-acaa59500676"
      },
      "outputs": [
        {
          "output_type": "stream",
          "name": "stdout",
          "text": [
            "[168.48709905  81.85520004 116.16280049 127.58420091 120.82010133\n",
            " 154.55459725 150.25559871 126.11290016 117.58689859 126.17270042\n",
            " 116.60600104 171.78100051 140.91169794 167.87129878 115.29300004\n",
            " 117.73730025 138.6616034  170.06750084 159.83450311 157.86640019\n",
            " 155.15380044 125.13730014 176.26439953 157.43890277 125.2266003\n",
            "  93.8547998   77.50670036 120.6367003  119.0780991  167.40610031\n",
            "  87.98830102 125.00819966  91.42510076 117.65350042 121.03929884\n",
            " 136.5891012  115.74930097 115.10360063 149.15280014 107.40380077\n",
            " 104.11910223  87.28039799 126.58880064 117.79310035 153.03759885\n",
            " 119.66730029 108.39650021 108.02429865  93.13850031 127.10029777\n",
            "  74.84950031 113.75109939 121.12430018 111.3093993  118.81589895\n",
            " 120.879099   158.90110056 166.99610108 146.75999662  85.80089838\n",
            "  94.40410043  86.76049866  90.70420018 118.82950088 126.48450052\n",
            " 127.43859999 169.71049997 122.28609918 117.52179865  98.31220024\n",
            " 168.25850086 142.83819847 132.24910234 121.28720229 121.21589911\n",
            " 119.62470094 114.48220165 118.1944002  107.15260086 127.95130169\n",
            " 114.08009964 107.24589999 116.96070012 119.64549842  88.79690043\n",
            "  88.15789832 145.9994029  127.18660035 113.67550022 109.75619834\n",
            " 108.21569893  77.47139892 169.48800137 114.06409903 121.71609891\n",
            " 127.93050196 154.93749767  91.92139954 137.08310049 158.96000285\n",
            " 125.5211002  125.57870041 130.79040183 114.80430106 119.78300003\n",
            "  92.14510001 109.95279892 166.2721995  156.32279906 114.1051995\n",
            " 106.68040133  79.59440002 113.50650064 125.8190009  107.52829916\n",
            " 119.41020091 155.93260346 159.88549883 120.14639978 136.11830224\n",
            " 101.62569981 117.67939799 119.20490046 113.05700055 102.73879899\n",
            " 160.19379779  98.98640033 147.5929987  125.60240127 169.77219901\n",
            " 125.88439808 127.38879752 127.5413023  113.81279924 112.99370065\n",
            " 123.287699   102.20259902  89.28909992 124.54219957 101.56939933\n",
            " 107.1893989  113.4593005  117.07780058  99.02379971 121.84260043\n",
            " 163.59259864  87.49559869 106.94409956 117.22940071 127.72330156\n",
            " 124.17380078  80.66059924 120.18650057 158.30069794  87.81029972\n",
            " 110.4594994  118.71399939 172.23619851 102.9755988  105.29810058\n",
            " 122.62510029 158.7570976   87.61819819  93.04690059 112.83650042\n",
            " 177.61379917 114.76069954 119.23580044  94.70650103 125.54680016\n",
            " 165.99140131 114.82900025 116.63690129  88.24649845 148.85810058\n",
            " 120.22779935  89.44789994 111.68810019 117.50040011 118.79870121\n",
            "  88.2629996   94.15530029 117.01070065 118.47800208 120.34380044\n",
            " 126.70039857 122.00979947 148.1845007  164.98580064 118.43169996\n",
            " 120.33380144 151.79570046 118.33439885 172.77119876 105.28619953\n",
            " 104.94290116 149.35080076 113.77040115 124.94780097 147.24610032\n",
            " 119.68460122 115.28500006 112.72729998 113.50210194 140.82420094\n",
            " 117.90129764 102.9743003  115.88360115 103.53050179  98.79980051\n",
            " 117.16400055  90.49140025  91.5069006  153.50219872 102.72009977\n",
            " 154.83310081 114.44960138 139.13050114  90.11369836 115.44349955\n",
            " 115.00349941 122.92930028 121.79490014 165.14410195  92.94219928\n",
            " 135.49880143 121.41149938 120.76180072 104.64950039 140.97130312\n",
            " 121.8868992  116.65170045 113.69550115 127.15349688 122.55639937\n",
            " 125.73109931 121.22710051  86.91249926 132.63550176 143.09330215\n",
            "  92.74879945 160.85909999 158.83960241 126.19749882 165.26139938\n",
            " 108.8883999  109.80440121 103.5553982   94.45660079 127.98570321\n",
            " 107.04800054 163.03280025 121.83220035 132.04849944 130.84630179\n",
            " 160.58250027  90.05849851 176.28270244 127.70590035 126.55489901\n",
            "  86.30169944 124.41939906 150.34549703  89.66840043 107.19099956\n",
            " 109.16579989  84.8359989  136.19660015 154.94840183 137.7686038\n",
            "  73.71100019 152.68810059 126.01309979 126.82249974 127.56609929\n",
            " 108.46089944 156.6345997  114.43450079 116.9282012  125.23979961\n",
            " 154.00290124 121.36109985 156.365499    92.95310061 125.43830111\n",
            " 125.84920061  87.85500042  92.21019923 126.36959941 128.33600293\n",
            " 113.17680021 117.34749685 120.78769997 127.22879728 119.80770103\n",
            " 136.43060127  93.84519894 119.91870051 113.22490097  94.21579924\n",
            " 108.92629942  87.27419925 108.77099957  89.62240006  92.53700009\n",
            " 131.57560306 162.33350108  89.27120042 119.60350085 133.28700215\n",
            " 123.98689992 128.25480095 102.03759859  88.95389881 132.01730074\n",
            " 120.31120006 108.42270017 167.52900177 115.08730032  86.65959902\n",
            " 118.68050056  91.28709978 161.89980062 116.40950045 121.57929994\n",
            " 160.27099745 119.91959919 112.6502997  108.4475985  126.80610008\n",
            "  75.77850045 102.99259976 127.75130298 121.66739906  92.64319979\n",
            " 132.28040036 118.14670101 115.98869958 154.77900219 159.39790055\n",
            " 109.99469972 155.33599771 119.19110089 160.60530044 118.50520037\n",
            " 157.4427001  115.17589888 116.64239999 148.28859894 114.91000063\n",
            " 125.55589855 165.8174996  117.68470005 124.83409922 153.13420334\n",
            " 153.46780254 132.33330013 114.80840016 121.32130218 125.35480089\n",
            "  89.86810035 122.96279985 154.92190168 111.79420044 106.92539977\n",
            " 161.50300187 118.57720001 165.63799969 134.27470041 115.00089959\n",
            " 152.91819898 168.83569993 114.18480034 113.98590117 156.74349916\n",
            "  85.31829881 127.11430049 128.01240071 128.92070009 124.48630085\n",
            " 123.8534007   90.58600115 153.21650022  97.20989956 136.57269976\n",
            "  89.02509918 107.12810006 114.93480004 112.75450102 124.32389921\n",
            "  91.38159899 125.4786012  162.39769916 119.89009892 165.06060059\n",
            " 126.78349813 112.37540012 127.6432995   95.21829891  91.04259978\n",
            " 103.25059922 120.83080007  83.04889942 126.22689942 160.48050425\n",
            " 117.33730097 118.1532     119.62620005 122.67599942 120.09510148\n",
            " 121.40259959 118.18900031 106.94779985 148.13419959 126.47729742\n",
            " 115.58470072  73.82430013 127.86430117 153.92390019 122.23660026\n",
            " 125.60010066  88.84470028 103.24199857 124.82680057 120.29400014\n",
            "  73.4033009  151.48020038 120.97140059 104.57270001  86.57169771\n",
            " 115.29179931 172.14209859 119.73850041 159.72499786 113.15829984\n",
            " 121.0969001  118.61370079  95.92369989 119.00859995 126.03110063\n",
            " 118.48079954  96.2654006  153.85520192 121.92630029 147.13819957\n",
            " 159.01670245 113.85050015 122.65379924 148.96829836 126.95240042\n",
            " 165.91770055 136.15710004 120.15160014 167.86209888 108.28419949\n",
            " 121.54949896 138.69500128 106.86129917]\n"
          ]
        }
      ],
      "source": [
        "print(test_pred)"
      ]
    },
    {
      "cell_type": "markdown",
      "metadata": {
        "id": "A7MHu7Gq8csd"
      },
      "source": [
        "R Squared error method"
      ]
    },
    {
      "cell_type": "code",
      "execution_count": null,
      "metadata": {
        "colab": {
          "base_uri": "https://localhost:8080/"
        },
        "id": "U-WjrkEb8TE7",
        "outputId": "0a17f959-9588-4129-f3ab-a511f1f012af"
      },
      "outputs": [
        {
          "output_type": "stream",
          "name": "stdout",
          "text": [
            "R squared error :  0.988750828034885\n"
          ]
        }
      ],
      "source": [
        "error=metrics.r2_score(Y_test,test_pred)\n",
        "print(\"R squared error : \",error)"
      ]
    },
    {
      "cell_type": "markdown",
      "metadata": {
        "id": "4J2QyVxP9XzV"
      },
      "source": [
        "Comparing the actual values and predicted values"
      ]
    },
    {
      "cell_type": "code",
      "execution_count": null,
      "metadata": {
        "id": "hul8U-Ja86Ys"
      },
      "outputs": [],
      "source": [
        "Y_test=list(Y_test)"
      ]
    },
    {
      "cell_type": "code",
      "execution_count": null,
      "metadata": {
        "colab": {
          "base_uri": "https://localhost:8080/",
          "height": 472
        },
        "id": "GdW41fBz9oP8",
        "outputId": "939fab5f-2560-498b-8ff9-919e489d0f22"
      },
      "outputs": [
        {
          "output_type": "display_data",
          "data": {
            "text/plain": [
              "<Figure size 640x480 with 1 Axes>"
            ],
            "image/png": "[encoded data removed]"
          },
          "metadata": {}
        }
      ],
      "source": [
        "plt.plot(Y_test,color='black',label='Actual value')\n",
        "plt.plot(test_pred,color='yellow',label = 'Predicted Values')\n",
        "plt.title('Actual Price VS Predicted Values')\n",
        "plt.xlabel(\"No. of values\")\n",
        "plt.ylabel(\"GLD Price\")\n",
        "plt.legend()\n",
        "plt.show()"
      ]
    },
    {
      "cell_type": "code",
      "source": [
        "import plotly.graph_objects as go\n",
        "from sklearn.preprocessing import MinMaxScaler\n",
        "\n",
        "difference = [abs(a - p) for a, p in zip(Y_test, test_pred)]\n",
        "\n",
        "scaler = MinMaxScaler(feature_range=(0, 1))\n",
        "difference_normalized = scaler.fit_transform(np.array(difference).reshape(-1, 1)).flatten()\n",
        "\n",
        "scaling_factor = 4.0\n",
        "scaled_difference = scaling_factor * difference_normalized\n",
        "\n",
        "trace_actual = go.Scatter3d(x=list(range(1, len(Y_test) + 1)), y=Y_test, z=scaled_difference,\n",
        "                            mode='lines', name='Actual Values', line=dict(color='black'))\n",
        "\n",
        "trace_predicted = go.Scatter3d(x=list(range(1, len(test_pred) + 1)), y=test_pred, z=scaled_difference,\n",
        "                                mode='lines', name='Predicted Values', line=dict(color='yellow'))\n",
        "\n",
        "layout = go.Layout(scene=dict(xaxis=dict(title='No. of values'),\n",
        "                              yaxis=dict(title='GLD Price'),\n",
        "                              zaxis=dict(title='Scaled Difference')),\n",
        "                   title='Actual Price VS Predicted Values (3D)',\n",
        "                   scene_aspectmode='manual')\n",
        "\n",
        "fig = go.Figure(data=[trace_actual, trace_predicted], layout=layout)\n",
        "fig.show()\n"
      ],
      "metadata": {
        "colab": {
          "base_uri": "https://localhost:8080/",
          "height": 542
        },
        "id": "JimP971tbjR8",
        "outputId": "7791b92b-d348-44be-c318-95bb07e599d0"
      },
      "execution_count": null,
      "outputs": [
        {
          "output_type": "display_data",
          "data": {
            "text/html": [
              "<html>\n",
              "<head><meta charset=\"utf-8\" /></head>\n",
              "<body>\n",
              "    <div>            <script src=\"https://cdnjs.cloudflare.com/ajax/libs/mathjax/2.7.5/MathJax.js?config=TeX-AMS-MML_SVG\"></script><script type=\"text/javascript\">if (window.MathJax && window.MathJax.Hub && window.MathJax.Hub.Config) {window.MathJax.Hub.Config({SVG: {font: \"STIX-Web\"}});}</script>                <script type=\"text/javascript\">window.PlotlyConfig = {MathJaxConfig: 'local'};</script>\n",
              "        <script charset=\"utf-8\" src=\"https://cdn.plot.ly/plotly-2.24.1.min.js\"></script>                <div id=\"beef2e67-f9da-4c9a-bfe0-f5fb6512bffb\" class=\"plotly-graph-div\" style=\"height:525px; width:100%;\"></div>            <script type=\"text/javascript\">                                    window.PLOTLYENV=window.PLOTLYENV || {};                                    if (document.getElementById(\"beef2e67-f9da-4c9a-bfe0-f5fb6512bffb\")) {                    Plotly.newPlot(                        \"beef2e67-f9da-4c9a-bfe0-f5fb6512bffb\",                        [{\"line\":{\"color\":\"black\"},\"mode\":\"lines\",\"name\":\"Actual Values\",\"x\":[1,2,3,4,5,6,7,8,9,10,11,12,13,14,15,16,17,18,19,20,21,22,23,24,25,26,27,28,29,30,31,32,33,34,35,36,37,38,39,40,41,42,43,44,45,46,47,48,49,50,51,52,53,54,55,56,57,58,59,60,61,62,63,64,65,66,67,68,69,70,71,72,73,74,75,76,77,78,79,80,81,82,83,84,85,86,87,88,89,90,91,92,93,94,95,96,97,98,99,100,101,102,103,104,105,106,107,108,109,110,111,112,113,114,115,116,117,118,119,120,121,122,123,124,125,126,127,128,129,130,131,132,133,134,135,136,137,138,139,140,141,142,143,144,145,146,147,148,149,150,151,152,153,154,155,156,157,158,159,160,161,162,163,164,165,166,167,168,169,170,171,172,173,174,175,176,177,178,179,180,181,182,183,184,185,186,187,188,189,190,191,192,193,194,195,196,197,198,199,200,201,202,203,204,205,206,207,208,209,210,211,212,213,214,215,216,217,218,219,220,221,222,223,224,225,226,227,228,229,230,231,232,233,234,235,236,237,238,239,240,241,242,243,244,245,246,247,248,249,250,251,252,253,254,255,256,257,258,259,260,261,262,263,264,265,266,267,268,269,270,271,272,273,274,275,276,277,278,279,280,281,282,283,284,285,286,287,288,289,290,291,292,293,294,295,296,297,298,299,300,301,302,303,304,305,306,307,308,309,310,311,312,313,314,315,316,317,318,319,320,321,322,323,324,325,326,327,328,329,330,331,332,333,334,335,336,337,338,339,340,341,342,343,344,345,346,347,348,349,350,351,352,353,354,355,356,357,358,359,360,361,362,363,364,365,366,367,368,369,370,371,372,373,374,375,376,377,378,379,380,381,382,383,384,385,386,387,388,389,390,391,392,393,394,395,396,397,398,399,400,401,402,403,404,405,406,407,408,409,410,411,412,413,414,415,416,417,418,419,420,421,422,423,424,425,426,427,428,429,430,431,432,433,434,435,436,437,438,439,440,441,442,443,444,445,446,447,448,449,450,451,452,453,454,455,456,457,458],\"y\":[168.020004,81.230003,112.32,127.589996,119.620003,154.210007,148.910004,126.190002,117.470001,125.739998,115.379997,167.119995,141.630005,169.559998,115.599998,119.669998,132.949997,170.399994,159.369995,173.529999,154.720001,128.119995,177.720001,157.190002,125.309998,93.400002,76.790001,119.690002,118.989998,167.389999,87.5,124.980003,91.230003,115.489998,120.949997,133.809998,116.690002,113.809998,133.580002,105.970001,105.120003,87.959999,126.82,116.860001,159.259995,119.459999,109.160004,108.620003,93.269997,127.160004,72.260002,113.470001,119.68,109.139999,119.309998,120.050003,159.889999,161.490005,146.740005,85.809998,93.709999,85.550003,91.029999,118.489998,126.449997,126.980003,171.699997,122.400002,116.410004,97.959999,169.630005,142.639999,131.809998,121.360001,124.0,119.699997,113.889999,118.919998,105.639999,127.669998,114.32,107.309998,114.82,119.230003,86.860001,87.010002,147.729996,128.199997,113.260002,110.82,107.360001,74.220001,172.940002,114.099998,121.650002,129.110001,156.770004,91.660004,133.479996,161.029999,128.470001,125.75,132.289993,114.019997,118.230003,93.709999,111.150002,164.289993,157.770004,115.510002,107.129997,83.309998,115.150002,125.540001,106.080002,120.580002,157.139999,161.059998,120.309998,133.070007,103.949997,116.360001,119.309998,112.370003,102.839996,161.199997,97.050003,147.830002,125.32,171.139999,123.540001,127.07,127.959999,114.830002,111.540001,122.849998,100.5,90.040001,123.989998,98.900002,106.169998,110.82,120.389999,98.849998,122.449997,162.300003,86.650002,106.150002,116.43,127.959999,122.830002,80.760002,119.529999,159.729996,88.470001,110.160004,115.940002,170.75,102.339996,105.019997,122.730003,160.330002,86.949997,93.190002,111.43,172.360001,114.120003,120.129997,93.699997,126.089996,167.619995,116.330002,117.120003,87.25,149.199997,118.690002,89.419998,113.650002,115.519997,118.669998,86.989998,93.830002,116.550003,118.300003,121.800003,127.660004,122.699997,137.710007,163.630005,118.43,120.870003,152.619995,117.959999,160.639999,99.910004,104.269997,149.820007,110.449997,125.440002,145.649994,120.220001,115.68,113.029999,112.150002,134.050003,118.059998,102.610001,116.339996,104.68,98.830002,116.089996,91.089996,92.080002,154.669998,102.43,154.770004,113.68,138.089996,91.330002,116.330002,115.669998,122.5438,122.290001,166.020004,92.739998,137.240005,121.309998,119.550003,104.669998,135.050003,122.919998,115.620003,113.150002,124.269997,123.349998,125.779999,121.559998,85.82,132.449997,154.869995,92.059998,148.970001,161.880005,127.199997,167.350006,108.559998,110.440002,104.209999,95.769997,129.470001,108.349998,149.119995,121.730003,131.699997,131.960007,160.990005,90.57,173.889999,128.089996,127.550003,86.779999,123.940002,150.419998,89.269997,108.050003,111.019997,89.18,138.369995,156.220001,134.660004,73.580002,152.970001,126.559998,126.139999,127.75,108.360001,157.460007,114.0,116.989998,126.860001,155.240005,120.650002,156.990005,92.790001,125.389999,124.889999,88.25,91.93,126.339996,128.839996,112.889999,117.360001,119.739998,128.179993,121.480003,134.199997,93.900002,118.900002,112.300003,94.779999,108.699997,86.709999,110.260002,88.639999,93.239998,131.320007,163.089996,90.120003,119.82,133.940002,125.839996,127.739998,101.459999,89.18,132.199997,122.150002,110.529999,172.070007,115.279999,85.389999,121.959999,90.760002,161.300003,116.519997,120.400002,160.490005,121.489998,114.949997,109.980003,126.529999,73.449997,102.040001,130.229996,121.099998,91.169998,132.089996,117.970001,116.110001,156.25,161.600006,110.209999,135.410004,119.040001,162.020004,118.080002,159.699997,114.43,117.980003,147.770004,115.330002,126.230003,165.589996,116.790001,125.029999,153.229996,153.470001,132.809998,115.029999,120.959999,126.470001,93.089996,122.519997,151.410004,111.669998,106.949997,162.619995,120.050003,165.160004,131.570007,116.169998,152.990005,169.429993,110.57,115.379997,161.199997,85.43,128.110001,127.269997,129.210007,125.610001,124.230003,91.099998,151.619995,96.089996,136.179993,90.25,106.93,115.470001,111.540001,126.309998,90.919998,125.410004,163.350006,117.959999,166.070007,127.790001,111.5,127.580002,96.910004,89.980003,99.339996,120.419998,82.199997,125.370003,159.429993,117.099998,120.730003,118.650002,120.620003,119.480003,121.18,118.809998,107.559998,146.380005,122.830002,115.43,71.709999,128.070007,157.199997,120.860001,126.239998,89.010002,102.550003,124.32,119.910004,72.150002,150.75,120.029999,104.099998,86.230003,113.580002,172.100006,121.480003,161.539993,112.769997,122.419998,120.940002,95.989998,120.760002,125.32,118.080002,97.730003,154.649994,120.589996,143.470001,160.589996,111.629997,122.120003,146.240005,127.959999,164.119995,133.429993,122.379997,166.380005,106.379997,122.239998,133.830002,102.360001],\"z\":[0.09343268992911052,0.12517323581422407,0.771139108506683,0.0008221380494430103,0.240590383787136,0.06883863374081232,0.26980022817625554,0.015137676837361985,0.02312706918410707,0.08652802762459257,0.2457912125492831,0.9354018984989335,0.1438659977596664,0.33868186871116135,0.06129160788951559,0.3876669987361668,1.1463204692010915,0.06641002268902384,0.09291333601227977,3.144281859425985,0.08674826529302374,0.5984643546023066,0.29188517861522034,0.04962801956284824,0.016401633307584214,0.09096389476791496,0.14354323600554536,0.1897178091946084,0.01734588760519369,0.0028912141490842432,0.0976899991750233,0.005319475878541226,0.03882653055143308,0.43400333023098003,0.017586948094485907,0.5575913053379881,0.18851379763464404,0.2593623013613798,3.1260527224458943,0.2875082706507604,0.2005994937712844,0.1360953735185993,0.04607428556910298,0.18698768482070882,1.2488665883075734,0.04127651049113934,0.1529396905223248,0.11925228516571151,0.02605798361110084,0.011645335233048339,0.5195262391672193,0.05609201179340816,0.2896163323229658,0.43518738826063597,0.0988540113248026,0.16610797860778226,0.198189906731342,1.1050622298720256,0.0036722325477464906,0.0014855552910504554,0.13900647695483753,0.24267775112481493,0.06506606739826601,0.06781729364940647,0.00658564070815082,0.09172661992098988,0.3990700187302867,0.022525839341250322,0.22286254236741015,0.07036661562975415,0.2750018037653095,0.03944922966219972,0.08781327669394084,0.014273780720610266,0.5585946412781029,0.014775148554561697,0.11854928408694318,0.14532968627813175,0.3033285734406639,0.05613322780890206,0.047821097799299064,0.012527028718418013,0.42942554187147014,0.08307355135235867,0.3885105277571213,0.2301103114382841,0.347092481508878,0.20310816587915909,0.08307411348019758,0.21322747261747071,0.17144858045474476,0.6524091645657522,0.692682152410045,0.006865791165107152,0.01292832776069405,0.23645487158111572,0.3675525753579342,0.052136468827179226,0.7230177541424729,0.4152310171596677,0.5916798611745273,0.034048811391382376,0.30071654810854354,0.15711555146091016,0.31143830531008576,0.31382774207494313,0.24000913357344894,0.3976063723714449,0.2901994917636991,0.2816867804912617,0.0899195154659138,0.745601940344825,0.3296079490898058,0.05567071906879833,0.2904187657843656,0.2345079117296638,0.24205537122238213,0.23545109798437447,0.03250268481913774,0.6116342828964954,0.4662844784648944,0.26454077550429356,0.020758091864617988,0.13758030243857367,0.019975021699342392,0.2016632082630559,0.3884097261917031,0.04723948421007364,0.05635357790287704,0.2742581588368597,0.4703197311573883,0.06366048683661067,0.08371624013020293,0.20387228029101917,0.2915033693478249,0.08753154224099523,0.34147239171278737,0.1504095712301225,0.1105186697019412,0.5355667615571194,0.20431357874354872,0.529524523798999,0.6646154692434327,0.03455113685022416,0.12159961454093438,0.25916013811032257,0.16942065612741158,0.1590816939245575,0.16014635399563343,0.047178079775138826,0.2694396773788179,0.019614808178601867,0.13145793135077444,0.2866045076253088,0.1321003049355553,0.059785394400756364,0.5565662632333297,0.29802783850245834,0.12726229555819707,0.05549077392016175,0.02071897780568786,0.3154349076991087,0.1338067463495669,0.02838774649165911,0.28202765480710695,1.0544109168235778,0.12828491449038815,0.179177563069209,0.2017244039076767,0.10871067989551318,0.32661508616835866,0.300999736063423,0.09664618601601455,0.19971568427615832,0.06829782059407659,0.3083868184788409,0.005260307909290582,0.39353000404344063,0.3972443239048432,0.02549716473639401,0.255226439833048,0.06496558102593693,0.09214834829467937,0.035393800595842254,0.2920058534069989,0.1923090438274806,0.138222730228524,2.1025174335225625,0.27184816626186675,0.0,0.10730650866859578,0.16514403779057268,0.07482320722160919,2.4351176412463813,1.0789834033640653,0.13475091432038827,0.09385653230499251,0.6662628510985642,0.09847296494513619,0.3200929237454724,0.10714554336463503,0.07895888003561115,0.0604285529568799,0.2711062177549073,1.3596462820670916,0.031519390743806,0.0727954214186897,0.09128451842869734,0.23043190677714087,0.005721965427281918,0.21527580419257797,0.11983276245364463,0.11471451830007164,0.23410602847593515,0.0578991282940987,0.012326027867366049,0.15416384231940916,0.20855046468084532,0.2438437608359667,0.1776328940141516,0.13346493247722307,0.0770517288724705,0.0990551346393548,0.17550475835559587,0.04025263279410433,0.3492226388200181,0.020036127001998815,0.24293915261112298,0.0037738150693624687,1.1884185676593924,0.2070635683134675,0.20678223337276963,0.10917309227085528,0.5785499764577967,0.15898152876816612,0.009475814920704387,0.06649119595523334,0.21898880104597934,0.036900640455600556,2.363946855581726,0.13794245329275706,2.3865135054034337,0.610049754963102,0.20092018970560804,0.41896725398361434,0.06558866158053957,0.1272618920306875,0.13107633288132825,0.2633360592769118,0.2976462500709914,0.261047646921002,2.792792650931476,0.020175849896841,0.06962404476697474,0.223246106276693,0.08146934091456434,0.10234772411948113,0.48001771304943724,0.07676973543921768,0.199435732571474,0.09568210667444833,0.09590244070760688,0.014615526334534943,0.07964216448074463,0.1721121944410432,0.37190721502992036,0.8717601124506816,0.43598933387538474,0.25494488807163784,0.623741022689968,0.025957904781457614,0.056253025279764,0.1094539674712646,0.13667752313683945,0.036578611475276496,0.019915080804315016,0.16536743542042154,0.08688906827627932,0.01206503793893442,0.3249302485314287,0.24801959166058868,0.14241867719904844,0.12503450266585947,0.03240258390592363,0.009355844796283378,0.19222797294887561,0.07895880776204135,0.055911496486551554,0.005601894922908728,0.10084033417751263,0.05723690958935985,0.0021690485265122073,0.20999529983339976,0.1906207109599627,0.33538995779966535,0.44747469355094704,0.010660975122441603,0.2041725669699192,0.18534117627132063,0.11292742559572111,0.04509117619291338,0.1129275239680723,0.2985907533109174,0.19688549311820147,0.1407925337378822,0.050972165575542606,0.15153259020792026,0.17006427040860184,0.04312307230463701,0.13075492625682122,0.37168617231414525,0.10301052502806589,0.1156175746505704,0.045050777270369366,0.03633680616662131,0.3688164816381775,0.42271990092501194,0.9113106495932823,0.03834489139673666,0.25454353883938,0.6580506232498405,0.10547883435016862,0.12007404980168539,0.021841996783471325,0.23641449875734455,0.04362665853592081,0.31493188560324487,0.4613458060464774,0.30730415024122065,0.055088752142133574,0.46712892696638897,0.1909023851849615,0.4972809758940771,0.11357011838878732,0.2954186177866611,0.037884283853223864,0.03513299938174047,0.024011181826739156,0.2949761468960615,0.44175327218313515,0.0428821864765134,4.0,0.02999352084940434,0.28367451669401433,0.08502151500352642,0.452833504324344,0.14940532986270294,0.2681958149708703,0.10377180470953382,0.08397816559998826,0.134991884467679,0.04533232501659753,0.1792784429310456,0.03898754403779176,0.018890044722436786,0.00010007882963181342,0.09536055148757697,0.04414688575850902,0.0721939205498913,0.22354622230963783,0.6464862906370265,0.08855578933634306,0.7047070805207488,0.024593590425275112,0.004596854530939607,0.2239061888956514,0.29533855472295967,0.09562110175174124,0.5426528004286455,0.23436684173562855,0.014074488336625973,0.11896895667885445,0.725365812276288,0.27953731007407623,0.8943449511228083,0.022083840236510957,0.1995554898903562,0.14870363974634987,0.05773995376878889,0.22525268982247654,0.0752653709494723,0.10284869244111355,0.32017300688512945,0.2244904866452494,0.07849850135843646,0.24556973016926625,0.03942927211662657,0.10710562827353722,0.24348166619459088,0.3983877882748052,0.09232970277805673,0.013430285828838262,0.19084377934353552,0.3871454585435595,0.20230708553974103,0.20172417102615375,0.17540399091938585,0.012366318379545388,0.33928532698935826,0.21298558098203885,0.7847511804527678,0.08213131469213725,0.17008431428092596,0.17168918923416088,0.21055929071516727,0.04729964594104945,0.5169775295046581,0.19564017720828564,0.41242043221732866,0.1231458495235437,0.04434779626757949,0.12433017456389936,0.12256357944934437,0.35183071520414183,0.7318895225583943,0.030716423260943964,0.42412568224660013,0.04095620603870509,0.6573677122181905,0.27602469974625377,0.12812446714709602,0.03284467937542177,0.13858370462944675,0.10140396770655327,0.07674975781766037,0.25127092698081954,0.14625369995866044,0.18865444201756743,0.09455834287731617,0.06825732530672815,0.3433190398530617,0.008109221939214206,0.34928267005702407,0.36403702991984443,0.07761437064740978,0.2652837699705524,0.46668680539808377,0.012968720660423703,0.3512700850438276,0.14241923531168826,0.08012280585852817,0.2936922047738951,0.15922112571745395,0.26793508402274874,0.7360860376795322,0.3155130334293873,0.44544679331481996,0.10682361677188981,0.547390724953569,0.20194414569905578,0.3605659728842843,0.5471525594225815,0.4470315340537635,0.29720379323359575,0.3819462920737174,0.1382832613577955,0.9763556753423085,0.9033390626455877],\"type\":\"scatter3d\"},{\"line\":{\"color\":\"yellow\"},\"mode\":\"lines\",\"name\":\"Predicted Values\",\"x\":[1,2,3,4,5,6,7,8,9,10,11,12,13,14,15,16,17,18,19,20,21,22,23,24,25,26,27,28,29,30,31,32,33,34,35,36,37,38,39,40,41,42,43,44,45,46,47,48,49,50,51,52,53,54,55,56,57,58,59,60,61,62,63,64,65,66,67,68,69,70,71,72,73,74,75,76,77,78,79,80,81,82,83,84,85,86,87,88,89,90,91,92,93,94,95,96,97,98,99,100,101,102,103,104,105,106,107,108,109,110,111,112,113,114,115,116,117,118,119,120,121,122,123,124,125,126,127,128,129,130,131,132,133,134,135,136,137,138,139,140,141,142,143,144,145,146,147,148,149,150,151,152,153,154,155,156,157,158,159,160,161,162,163,164,165,166,167,168,169,170,171,172,173,174,175,176,177,178,179,180,181,182,183,184,185,186,187,188,189,190,191,192,193,194,195,196,197,198,199,200,201,202,203,204,205,206,207,208,209,210,211,212,213,214,215,216,217,218,219,220,221,222,223,224,225,226,227,228,229,230,231,232,233,234,235,236,237,238,239,240,241,242,243,244,245,246,247,248,249,250,251,252,253,254,255,256,257,258,259,260,261,262,263,264,265,266,267,268,269,270,271,272,273,274,275,276,277,278,279,280,281,282,283,284,285,286,287,288,289,290,291,292,293,294,295,296,297,298,299,300,301,302,303,304,305,306,307,308,309,310,311,312,313,314,315,316,317,318,319,320,321,322,323,324,325,326,327,328,329,330,331,332,333,334,335,336,337,338,339,340,341,342,343,344,345,346,347,348,349,350,351,352,353,354,355,356,357,358,359,360,361,362,363,364,365,366,367,368,369,370,371,372,373,374,375,376,377,378,379,380,381,382,383,384,385,386,387,388,389,390,391,392,393,394,395,396,397,398,399,400,401,402,403,404,405,406,407,408,409,410,411,412,413,414,415,416,417,418,419,420,421,422,423,424,425,426,427,428,429,430,431,432,433,434,435,436,437,438,439,440,441,442,443,444,445,446,447,448,449,450,451,452,453,454,455,456,457,458],\"y\":[168.48709904999996,81.85520004000004,116.16280049,127.58420091000008,120.82010132999993,154.55459725000003,150.25559871000007,126.11290016000008,117.58689859000006,126.17270042000001,116.60600104000005,171.78100051000004,140.91169794,167.87129878000007,115.29300003999998,117.73730025000003,138.66160340000005,170.06750084000004,159.83450311000016,157.86640019000004,155.15380044000017,125.13730013999994,176.26439952999988,157.4389027700001,125.22660030000009,93.8547997999999,77.50670035999991,120.63670029999986,119.07809909999997,167.40610031,87.98830102,125.0081996599999,91.4251007599999,117.65350041999999,121.03929884000001,136.58910119999993,115.74930096999994,115.10360062999993,149.1528001399999,107.40380076999996,104.11910223000001,87.28039798999997,126.58880064000006,117.79310034999995,153.03759884999994,119.66730028999999,108.39650020999989,108.02429865,93.13850031000005,127.10029777,74.84950031000002,113.75109938999996,121.12430018,111.30939929999997,118.8158989499998,120.87909899999994,158.90110056,166.99610108000002,146.75999661999978,85.80089837999992,94.40410043000008,86.76049865999995,90.70420018000003,118.82950088000008,126.48450052000017,127.43859998999999,169.71049997000003,122.28609918000002,117.52179864999992,98.31220024000002,168.25850086000014,142.8381984700001,132.24910233999992,121.28720228999998,121.21589910999988,119.62470093999987,114.48220165000001,118.1944001999999,107.15260085999996,127.95130168999995,114.08009963999993,107.24589999,116.96070011999993,119.64549841999991,88.79690043000001,88.15789831999999,145.99940290000026,127.18660035000008,113.67550021999996,109.75619833999995,108.2156989300001,77.47139891999996,169.48800137000006,114.06409903000018,121.71609890999997,127.93050195999994,154.93749766999997,91.92139954,137.0831004899999,158.96000284999997,125.52110019999995,125.57870041000005,130.79040182999995,114.80430106,119.78300002999998,92.14510001,109.95279892,166.27219950000006,156.32279905999994,114.10519950000018,106.68040132999998,79.59440002,113.50650064000001,125.8190009,107.52829915999993,119.41020090999987,155.93260346000008,159.88549882999993,120.14639978000007,136.11830224000002,101.62569981000006,117.67939798999998,119.20490046000008,113.05700054999988,102.73879899000003,160.19379778999996,98.98640033000005,147.59299870000012,125.60240126999999,169.77219901000015,125.88439808000012,127.38879752000004,127.54130230000018,113.81279923999995,112.99370065000011,123.28769899999992,102.20259902000006,89.28909991999998,124.54219957000007,101.56939932999998,107.18939889999996,113.45930049999994,117.07780058000002,99.02379970999996,121.84260043000002,163.59259864000006,87.49559868999997,106.94409956000001,117.22940071000002,127.72330155999991,124.1738007800001,80.66059924000002,120.18650056999994,158.3006979399999,87.81029971999996,110.45949939999996,118.7139993900001,172.23619851000004,102.9755988000001,105.29810057999993,122.62510029000005,158.7570975999998,87.61819819000002,93.04690059000004,112.83650042000001,177.6137991699999,114.76069953999992,119.23580044000009,94.70650102999994,125.54680016,165.9914013100001,114.82900025000006,116.63690129000005,88.24649845,148.8581005799998,120.22779935,89.44789993999993,111.68810019000004,117.50040010999997,118.7987012099999,88.26299959999999,94.15530028999993,117.01070065000002,118.47800208000001,120.34380043999998,126.70039857000002,122.00979947000008,148.18450069999992,164.98580063999998,118.43169995999989,120.3338014400001,151.79570045999998,118.33439885,172.77119876000003,105.28619953000005,104.94290116000002,149.35080075999986,113.77040115,124.94780097000003,147.24610032000018,119.68460122000002,115.28500005999999,112.72729998000004,113.50210193999996,140.82420094,117.90129763999995,102.97430030000014,115.88360114999995,103.53050179000002,98.79980050999998,117.16400055,90.49140025000001,91.50690060000001,153.50219872,102.72009977000003,154.8331008099999,114.44960138000005,139.13050113999995,90.11369835999996,115.44349954999996,115.00349941000009,122.92930028,121.79490014000004,165.1441019500002,92.94219928000004,135.49880143000004,121.41149937999991,120.76180071999993,104.64950039000009,140.97130311999996,121.88689919999993,116.65170044999992,113.69550114999998,127.1534968800001,122.55639936999985,125.73109930999993,121.22710050999989,86.91249925999999,132.63550176,143.09330215000017,92.74879945000002,160.8590999900001,158.83960241,126.19749882000004,165.26139938,108.88839989999988,109.80440121000007,103.55539820000001,94.45660078999995,127.98570321,107.04800054000002,163.03280025000004,121.83220035000002,132.04849943999997,130.84630178999996,160.58250026999994,90.05849850999998,176.28270243999995,127.70590034999994,126.55489900999999,86.30169943999998,124.41939905999998,150.34549703000008,89.66840042999993,107.19099956,109.16579988999996,84.83599889999996,136.19660015000008,154.94840183000005,137.7686038,73.71100018999995,152.68810059000006,126.01309979,126.8224997400001,127.56609928999998,108.46089943999992,156.63459969999994,114.43450078999999,116.92820120000006,125.23979960999992,154.00290123999994,121.36109984999996,156.36549900000017,92.95310061000005,125.43830111000003,125.84920061000001,87.85500041999994,92.21019922999993,126.36959941000005,128.3360029299999,113.17680021000004,117.34749685000006,120.78769996999989,127.22879728000007,119.80770102999993,136.43060126999998,93.84519893999988,119.91870050999995,113.22490096999998,94.21579924000001,108.92629942000003,87.2741992499999,108.77099956999997,89.62240006000006,92.53700009000002,131.57560306000008,162.33350107999988,89.27120042,119.60350085000009,133.28700214999998,123.98689992000006,128.25480095000012,102.03759859000002,88.95389880999996,132.01730073999997,120.31120005999996,108.42270016999989,167.5290017700001,115.08730032000001,86.65959901999999,118.68050055999997,91.28709977999998,161.89980062000012,116.40950045000001,121.57929993999998,160.27099744999995,119.91959918999999,112.65029969999995,108.44759850000004,126.80610008000009,75.77850045000007,102.9925997600001,127.75130298000002,121.66739906000001,92.64319979000001,132.2804003599999,118.14670100999997,115.98869957999996,154.77900219000003,159.39790054999997,109.99469972000003,155.33599771000013,119.19110088999996,160.6053004399999,118.50520036999995,157.44270010000005,115.17589887999993,116.64239999000003,148.28859893999999,114.91000063000003,125.55589855000008,165.8174996000002,117.68470005000009,124.83409922000011,153.13420334,153.46780254000018,132.33330013,114.80840016000006,121.32130217999993,125.35480089000009,89.86810035000008,122.96279985,154.92190168,111.79420043999998,106.92539977,161.5030018700001,118.57720000999993,165.63799968999996,134.27470041000004,115.00089959,152.91819898000014,168.83569992999998,114.18480033999995,113.98590116999992,156.74349916,85.31829881000004,127.11430048999996,128.01240071,128.9207000899999,124.48630084999994,123.85340070000011,90.58600115000007,153.21650021999992,97.20989956,136.57269975999995,89.02509917999993,107.12810005999998,114.93480004000004,112.75450102000002,124.32389921000008,91.38159898999994,125.47860119999994,162.39769915999992,119.89009891999999,165.06060059000006,126.78349813000003,112.37540011999994,127.6432994999999,95.2182989099999,91.04259978000003,103.25059921999998,120.83080006999985,83.04889942000001,126.22689942000008,160.48050425000005,117.33730097,118.15320000000006,119.62620004999988,122.67599941999991,120.09510147999998,121.40259959,118.18900031000013,106.94779985000005,148.1341995899999,126.4772974200001,115.58470071999999,73.82430013000001,127.86430116999995,153.9239001899999,122.23660025999988,125.60010065999987,88.84470028,103.24199856999998,124.8268005700001,120.29400014,73.40330090000006,151.48020038000007,120.97140058999999,104.5727000100001,86.57169771000002,115.29179930999999,172.1420985900001,119.73850040999997,159.72499785999997,113.15829983999998,121.09690009999993,118.61370078999997,95.92369989000012,119.00859994999992,126.03110063,118.48079953999977,96.26540060000004,153.85520192000004,121.92630028999994,147.13819957000007,159.01670244999994,113.85050014999992,122.65379924000003,148.96829836,126.9524004199999,165.91770055000015,136.15710003999988,120.15160014000001,167.86209888000002,108.28419948999992,121.54949895999992,138.6950012799999,106.86129917000002],\"z\":[0.09343268992911052,0.12517323581422407,0.771139108506683,0.0008221380494430103,0.240590383787136,0.06883863374081232,0.26980022817625554,0.015137676837361985,0.02312706918410707,0.08652802762459257,0.2457912125492831,0.9354018984989335,0.1438659977596664,0.33868186871116135,0.06129160788951559,0.3876669987361668,1.1463204692010915,0.06641002268902384,0.09291333601227977,3.144281859425985,0.08674826529302374,0.5984643546023066,0.29188517861522034,0.04962801956284824,0.016401633307584214,0.09096389476791496,0.14354323600554536,0.1897178091946084,0.01734588760519369,0.0028912141490842432,0.0976899991750233,0.005319475878541226,0.03882653055143308,0.43400333023098003,0.017586948094485907,0.5575913053379881,0.18851379763464404,0.2593623013613798,3.1260527224458943,0.2875082706507604,0.2005994937712844,0.1360953735185993,0.04607428556910298,0.18698768482070882,1.2488665883075734,0.04127651049113934,0.1529396905223248,0.11925228516571151,0.02605798361110084,0.011645335233048339,0.5195262391672193,0.05609201179340816,0.2896163323229658,0.43518738826063597,0.0988540113248026,0.16610797860778226,0.198189906731342,1.1050622298720256,0.0036722325477464906,0.0014855552910504554,0.13900647695483753,0.24267775112481493,0.06506606739826601,0.06781729364940647,0.00658564070815082,0.09172661992098988,0.3990700187302867,0.022525839341250322,0.22286254236741015,0.07036661562975415,0.2750018037653095,0.03944922966219972,0.08781327669394084,0.014273780720610266,0.5585946412781029,0.014775148554561697,0.11854928408694318,0.14532968627813175,0.3033285734406639,0.05613322780890206,0.047821097799299064,0.012527028718418013,0.42942554187147014,0.08307355135235867,0.3885105277571213,0.2301103114382841,0.347092481508878,0.20310816587915909,0.08307411348019758,0.21322747261747071,0.17144858045474476,0.6524091645657522,0.692682152410045,0.006865791165107152,0.01292832776069405,0.23645487158111572,0.3675525753579342,0.052136468827179226,0.7230177541424729,0.4152310171596677,0.5916798611745273,0.034048811391382376,0.30071654810854354,0.15711555146091016,0.31143830531008576,0.31382774207494313,0.24000913357344894,0.3976063723714449,0.2901994917636991,0.2816867804912617,0.0899195154659138,0.745601940344825,0.3296079490898058,0.05567071906879833,0.2904187657843656,0.2345079117296638,0.24205537122238213,0.23545109798437447,0.03250268481913774,0.6116342828964954,0.4662844784648944,0.26454077550429356,0.020758091864617988,0.13758030243857367,0.019975021699342392,0.2016632082630559,0.3884097261917031,0.04723948421007364,0.05635357790287704,0.2742581588368597,0.4703197311573883,0.06366048683661067,0.08371624013020293,0.20387228029101917,0.2915033693478249,0.08753154224099523,0.34147239171278737,0.1504095712301225,0.1105186697019412,0.5355667615571194,0.20431357874354872,0.529524523798999,0.6646154692434327,0.03455113685022416,0.12159961454093438,0.25916013811032257,0.16942065612741158,0.1590816939245575,0.16014635399563343,0.047178079775138826,0.2694396773788179,0.019614808178601867,0.13145793135077444,0.2866045076253088,0.1321003049355553,0.059785394400756364,0.5565662632333297,0.29802783850245834,0.12726229555819707,0.05549077392016175,0.02071897780568786,0.3154349076991087,0.1338067463495669,0.02838774649165911,0.28202765480710695,1.0544109168235778,0.12828491449038815,0.179177563069209,0.2017244039076767,0.10871067989551318,0.32661508616835866,0.300999736063423,0.09664618601601455,0.19971568427615832,0.06829782059407659,0.3083868184788409,0.005260307909290582,0.39353000404344063,0.3972443239048432,0.02549716473639401,0.255226439833048,0.06496558102593693,0.09214834829467937,0.035393800595842254,0.2920058534069989,0.1923090438274806,0.138222730228524,2.1025174335225625,0.27184816626186675,0.0,0.10730650866859578,0.16514403779057268,0.07482320722160919,2.4351176412463813,1.0789834033640653,0.13475091432038827,0.09385653230499251,0.6662628510985642,0.09847296494513619,0.3200929237454724,0.10714554336463503,0.07895888003561115,0.0604285529568799,0.2711062177549073,1.3596462820670916,0.031519390743806,0.0727954214186897,0.09128451842869734,0.23043190677714087,0.005721965427281918,0.21527580419257797,0.11983276245364463,0.11471451830007164,0.23410602847593515,0.0578991282940987,0.012326027867366049,0.15416384231940916,0.20855046468084532,0.2438437608359667,0.1776328940141516,0.13346493247722307,0.0770517288724705,0.0990551346393548,0.17550475835559587,0.04025263279410433,0.3492226388200181,0.020036127001998815,0.24293915261112298,0.0037738150693624687,1.1884185676593924,0.2070635683134675,0.20678223337276963,0.10917309227085528,0.5785499764577967,0.15898152876816612,0.009475814920704387,0.06649119595523334,0.21898880104597934,0.036900640455600556,2.363946855581726,0.13794245329275706,2.3865135054034337,0.610049754963102,0.20092018970560804,0.41896725398361434,0.06558866158053957,0.1272618920306875,0.13107633288132825,0.2633360592769118,0.2976462500709914,0.261047646921002,2.792792650931476,0.020175849896841,0.06962404476697474,0.223246106276693,0.08146934091456434,0.10234772411948113,0.48001771304943724,0.07676973543921768,0.199435732571474,0.09568210667444833,0.09590244070760688,0.014615526334534943,0.07964216448074463,0.1721121944410432,0.37190721502992036,0.8717601124506816,0.43598933387538474,0.25494488807163784,0.623741022689968,0.025957904781457614,0.056253025279764,0.1094539674712646,0.13667752313683945,0.036578611475276496,0.019915080804315016,0.16536743542042154,0.08688906827627932,0.01206503793893442,0.3249302485314287,0.24801959166058868,0.14241867719904844,0.12503450266585947,0.03240258390592363,0.009355844796283378,0.19222797294887561,0.07895880776204135,0.055911496486551554,0.005601894922908728,0.10084033417751263,0.05723690958935985,0.0021690485265122073,0.20999529983339976,0.1906207109599627,0.33538995779966535,0.44747469355094704,0.010660975122441603,0.2041725669699192,0.18534117627132063,0.11292742559572111,0.04509117619291338,0.1129275239680723,0.2985907533109174,0.19688549311820147,0.1407925337378822,0.050972165575542606,0.15153259020792026,0.17006427040860184,0.04312307230463701,0.13075492625682122,0.37168617231414525,0.10301052502806589,0.1156175746505704,0.045050777270369366,0.03633680616662131,0.3688164816381775,0.42271990092501194,0.9113106495932823,0.03834489139673666,0.25454353883938,0.6580506232498405,0.10547883435016862,0.12007404980168539,0.021841996783471325,0.23641449875734455,0.04362665853592081,0.31493188560324487,0.4613458060464774,0.30730415024122065,0.055088752142133574,0.46712892696638897,0.1909023851849615,0.4972809758940771,0.11357011838878732,0.2954186177866611,0.037884283853223864,0.03513299938174047,0.024011181826739156,0.2949761468960615,0.44175327218313515,0.0428821864765134,4.0,0.02999352084940434,0.28367451669401433,0.08502151500352642,0.452833504324344,0.14940532986270294,0.2681958149708703,0.10377180470953382,0.08397816559998826,0.134991884467679,0.04533232501659753,0.1792784429310456,0.03898754403779176,0.018890044722436786,0.00010007882963181342,0.09536055148757697,0.04414688575850902,0.0721939205498913,0.22354622230963783,0.6464862906370265,0.08855578933634306,0.7047070805207488,0.024593590425275112,0.004596854530939607,0.2239061888956514,0.29533855472295967,0.09562110175174124,0.5426528004286455,0.23436684173562855,0.014074488336625973,0.11896895667885445,0.725365812276288,0.27953731007407623,0.8943449511228083,0.022083840236510957,0.1995554898903562,0.14870363974634987,0.05773995376878889,0.22525268982247654,0.0752653709494723,0.10284869244111355,0.32017300688512945,0.2244904866452494,0.07849850135843646,0.24556973016926625,0.03942927211662657,0.10710562827353722,0.24348166619459088,0.3983877882748052,0.09232970277805673,0.013430285828838262,0.19084377934353552,0.3871454585435595,0.20230708553974103,0.20172417102615375,0.17540399091938585,0.012366318379545388,0.33928532698935826,0.21298558098203885,0.7847511804527678,0.08213131469213725,0.17008431428092596,0.17168918923416088,0.21055929071516727,0.04729964594104945,0.5169775295046581,0.19564017720828564,0.41242043221732866,0.1231458495235437,0.04434779626757949,0.12433017456389936,0.12256357944934437,0.35183071520414183,0.7318895225583943,0.030716423260943964,0.42412568224660013,0.04095620603870509,0.6573677122181905,0.27602469974625377,0.12812446714709602,0.03284467937542177,0.13858370462944675,0.10140396770655327,0.07674975781766037,0.25127092698081954,0.14625369995866044,0.18865444201756743,0.09455834287731617,0.06825732530672815,0.3433190398530617,0.008109221939214206,0.34928267005702407,0.36403702991984443,0.07761437064740978,0.2652837699705524,0.46668680539808377,0.012968720660423703,0.3512700850438276,0.14241923531168826,0.08012280585852817,0.2936922047738951,0.15922112571745395,0.26793508402274874,0.7360860376795322,0.3155130334293873,0.44544679331481996,0.10682361677188981,0.547390724953569,0.20194414569905578,0.3605659728842843,0.5471525594225815,0.4470315340537635,0.29720379323359575,0.3819462920737174,0.1382832613577955,0.9763556753423085,0.9033390626455877],\"type\":\"scatter3d\"}],                        {\"scene\":{\"aspectmode\":\"manual\",\"xaxis\":{\"title\":{\"text\":\"No. of values\"}},\"yaxis\":{\"title\":{\"text\":\"GLD Price\"}},\"zaxis\":{\"title\":{\"text\":\"Scaled Difference\"}}},\"title\":{\"text\":\"Actual Price VS Predicted Values (3D)\"},\"template\":{\"data\":{\"histogram2dcontour\":[{\"type\":\"histogram2dcontour\",\"colorbar\":{\"outlinewidth\":0,\"ticks\":\"\"},\"colorscale\":[[0.0,\"#0d0887\"],[0.1111111111111111,\"#46039f\"],[0.2222222222222222,\"#7201a8\"],[0.3333333333333333,\"#9c179e\"],[0.4444444444444444,\"#bd3786\"],[0.5555555555555556,\"#d8576b\"],[0.6666666666666666,\"#ed7953\"],[0.7777777777777778,\"#fb9f3a\"],[0.8888888888888888,\"#fdca26\"],[1.0,\"#f0f921\"]]}],\"choropleth\":[{\"type\":\"choropleth\",\"colorbar\":{\"outlinewidth\":0,\"ticks\":\"\"}}],\"histogram2d\":[{\"type\":\"histogram2d\",\"colorbar\":{\"outlinewidth\":0,\"ticks\":\"\"},\"colorscale\":[[0.0,\"#0d0887\"],[0.1111111111111111,\"#46039f\"],[0.2222222222222222,\"#7201a8\"],[0.3333333333333333,\"#9c179e\"],[0.4444444444444444,\"#bd3786\"],[0.5555555555555556,\"#d8576b\"],[0.6666666666666666,\"#ed7953\"],[0.7777777777777778,\"#fb9f3a\"],[0.8888888888888888,\"#fdca26\"],[1.0,\"#f0f921\"]]}],\"heatmap\":[{\"type\":\"heatmap\",\"colorbar\":{\"outlinewidth\":0,\"ticks\":\"\"},\"colorscale\":[[0.0,\"#0d0887\"],[0.1111111111111111,\"#46039f\"],[0.2222222222222222,\"#7201a8\"],[0.3333333333333333,\"#9c179e\"],[0.4444444444444444,\"#bd3786\"],[0.5555555555555556,\"#d8576b\"],[0.6666666666666666,\"#ed7953\"],[0.7777777777777778,\"#fb9f3a\"],[0.8888888888888888,\"#fdca26\"],[1.0,\"#f0f921\"]]}],\"heatmapgl\":[{\"type\":\"heatmapgl\",\"colorbar\":{\"outlinewidth\":0,\"ticks\":\"\"},\"colorscale\":[[0.0,\"#0d0887\"],[0.1111111111111111,\"#46039f\"],[0.2222222222222222,\"#7201a8\"],[0.3333333333333333,\"#9c179e\"],[0.4444444444444444,\"#bd3786\"],[0.5555555555555556,\"#d8576b\"],[0.6666666666666666,\"#ed7953\"],[0.7777777777777778,\"#fb9f3a\"],[0.8888888888888888,\"#fdca26\"],[1.0,\"#f0f921\"]]}],\"contourcarpet\":[{\"type\":\"contourcarpet\",\"colorbar\":{\"outlinewidth\":0,\"ticks\":\"\"}}],\"contour\":[{\"type\":\"contour\",\"colorbar\":{\"outlinewidth\":0,\"ticks\":\"\"},\"colorscale\":[[0.0,\"#0d0887\"],[0.1111111111111111,\"#46039f\"],[0.2222222222222222,\"#7201a8\"],[0.3333333333333333,\"#9c179e\"],[0.4444444444444444,\"#bd3786\"],[0.5555555555555556,\"#d8576b\"],[0.6666666666666666,\"#ed7953\"],[0.7777777777777778,\"#fb9f3a\"],[0.8888888888888888,\"#fdca26\"],[1.0,\"#f0f921\"]]}],\"surface\":[{\"type\":\"surface\",\"colorbar\":{\"outlinewidth\":0,\"ticks\":\"\"},\"colorscale\":[[0.0,\"#0d0887\"],[0.1111111111111111,\"#46039f\"],[0.2222222222222222,\"#7201a8\"],[0.3333333333333333,\"#9c179e\"],[0.4444444444444444,\"#bd3786\"],[0.5555555555555556,\"#d8576b\"],[0.6666666666666666,\"#ed7953\"],[0.7777777777777778,\"#fb9f3a\"],[0.8888888888888888,\"#fdca26\"],[1.0,\"#f0f921\"]]}],\"mesh3d\":[{\"type\":\"mesh3d\",\"colorbar\":{\"outlinewidth\":0,\"ticks\":\"\"}}],\"scatter\":[{\"fillpattern\":{\"fillmode\":\"overlay\",\"size\":10,\"solidity\":0.2},\"type\":\"scatter\"}],\"parcoords\":[{\"type\":\"parcoords\",\"line\":{\"colorbar\":{\"outlinewidth\":0,\"ticks\":\"\"}}}],\"scatterpolargl\":[{\"type\":\"scatterpolargl\",\"marker\":{\"colorbar\":{\"outlinewidth\":0,\"ticks\":\"\"}}}],\"bar\":[{\"error_x\":{\"color\":\"#2a3f5f\"},\"error_y\":{\"color\":\"#2a3f5f\"},\"marker\":{\"line\":{\"color\":\"#E5ECF6\",\"width\":0.5},\"pattern\":{\"fillmode\":\"overlay\",\"size\":10,\"solidity\":0.2}},\"type\":\"bar\"}],\"scattergeo\":[{\"type\":\"scattergeo\",\"marker\":{\"colorbar\":{\"outlinewidth\":0,\"ticks\":\"\"}}}],\"scatterpolar\":[{\"type\":\"scatterpolar\",\"marker\":{\"colorbar\":{\"outlinewidth\":0,\"ticks\":\"\"}}}],\"histogram\":[{\"marker\":{\"pattern\":{\"fillmode\":\"overlay\",\"size\":10,\"solidity\":0.2}},\"type\":\"histogram\"}],\"scattergl\":[{\"type\":\"scattergl\",\"marker\":{\"colorbar\":{\"outlinewidth\":0,\"ticks\":\"\"}}}],\"scatter3d\":[{\"type\":\"scatter3d\",\"line\":{\"colorbar\":{\"outlinewidth\":0,\"ticks\":\"\"}},\"marker\":{\"colorbar\":{\"outlinewidth\":0,\"ticks\":\"\"}}}],\"scattermapbox\":[{\"type\":\"scattermapbox\",\"marker\":{\"colorbar\":{\"outlinewidth\":0,\"ticks\":\"\"}}}],\"scatterternary\":[{\"type\":\"scatterternary\",\"marker\":{\"colorbar\":{\"outlinewidth\":0,\"ticks\":\"\"}}}],\"scattercarpet\":[{\"type\":\"scattercarpet\",\"marker\":{\"colorbar\":{\"outlinewidth\":0,\"ticks\":\"\"}}}],\"carpet\":[{\"aaxis\":{\"endlinecolor\":\"#2a3f5f\",\"gridcolor\":\"white\",\"linecolor\":\"white\",\"minorgridcolor\":\"white\",\"startlinecolor\":\"#2a3f5f\"},\"baxis\":{\"endlinecolor\":\"#2a3f5f\",\"gridcolor\":\"white\",\"linecolor\":\"white\",\"minorgridcolor\":\"white\",\"startlinecolor\":\"#2a3f5f\"},\"type\":\"carpet\"}],\"table\":[{\"cells\":{\"fill\":{\"color\":\"#EBF0F8\"},\"line\":{\"color\":\"white\"}},\"header\":{\"fill\":{\"color\":\"#C8D4E3\"},\"line\":{\"color\":\"white\"}},\"type\":\"table\"}],\"barpolar\":[{\"marker\":{\"line\":{\"color\":\"#E5ECF6\",\"width\":0.5},\"pattern\":{\"fillmode\":\"overlay\",\"size\":10,\"solidity\":0.2}},\"type\":\"barpolar\"}],\"pie\":[{\"automargin\":true,\"type\":\"pie\"}]},\"layout\":{\"autotypenumbers\":\"strict\",\"colorway\":[\"#636efa\",\"#EF553B\",\"#00cc96\",\"#ab63fa\",\"#FFA15A\",\"#19d3f3\",\"#FF6692\",\"#B6E880\",\"#FF97FF\",\"#FECB52\"],\"font\":{\"color\":\"#2a3f5f\"},\"hovermode\":\"closest\",\"hoverlabel\":{\"align\":\"left\"},\"paper_bgcolor\":\"white\",\"plot_bgcolor\":\"#E5ECF6\",\"polar\":{\"bgcolor\":\"#E5ECF6\",\"angularaxis\":{\"gridcolor\":\"white\",\"linecolor\":\"white\",\"ticks\":\"\"},\"radialaxis\":{\"gridcolor\":\"white\",\"linecolor\":\"white\",\"ticks\":\"\"}},\"ternary\":{\"bgcolor\":\"#E5ECF6\",\"aaxis\":{\"gridcolor\":\"white\",\"linecolor\":\"white\",\"ticks\":\"\"},\"baxis\":{\"gridcolor\":\"white\",\"linecolor\":\"white\",\"ticks\":\"\"},\"caxis\":{\"gridcolor\":\"white\",\"linecolor\":\"white\",\"ticks\":\"\"}},\"coloraxis\":{\"colorbar\":{\"outlinewidth\":0,\"ticks\":\"\"}},\"colorscale\":{\"sequential\":[[0.0,\"#0d0887\"],[0.1111111111111111,\"#46039f\"],[0.2222222222222222,\"#7201a8\"],[0.3333333333333333,\"#9c179e\"],[0.4444444444444444,\"#bd3786\"],[0.5555555555555556,\"#d8576b\"],[0.6666666666666666,\"#ed7953\"],[0.7777777777777778,\"#fb9f3a\"],[0.8888888888888888,\"#fdca26\"],[1.0,\"#f0f921\"]],\"sequentialminus\":[[0.0,\"#0d0887\"],[0.1111111111111111,\"#46039f\"],[0.2222222222222222,\"#7201a8\"],[0.3333333333333333,\"#9c179e\"],[0.4444444444444444,\"#bd3786\"],[0.5555555555555556,\"#d8576b\"],[0.6666666666666666,\"#ed7953\"],[0.7777777777777778,\"#fb9f3a\"],[0.8888888888888888,\"#fdca26\"],[1.0,\"#f0f921\"]],\"diverging\":[[0,\"#8e0152\"],[0.1,\"#c51b7d\"],[0.2,\"#de77ae\"],[0.3,\"#f1b6da\"],[0.4,\"#fde0ef\"],[0.5,\"#f7f7f7\"],[0.6,\"#e6f5d0\"],[0.7,\"#b8e186\"],[0.8,\"#7fbc41\"],[0.9,\"#4d9221\"],[1,\"#276419\"]]},\"xaxis\":{\"gridcolor\":\"white\",\"linecolor\":\"white\",\"ticks\":\"\",\"title\":{\"standoff\":15},\"zerolinecolor\":\"white\",\"automargin\":true,\"zerolinewidth\":2},\"yaxis\":{\"gridcolor\":\"white\",\"linecolor\":\"white\",\"ticks\":\"\",\"title\":{\"standoff\":15},\"zerolinecolor\":\"white\",\"automargin\":true,\"zerolinewidth\":2},\"scene\":{\"xaxis\":{\"backgroundcolor\":\"#E5ECF6\",\"gridcolor\":\"white\",\"linecolor\":\"white\",\"showbackground\":true,\"ticks\":\"\",\"zerolinecolor\":\"white\",\"gridwidth\":2},\"yaxis\":{\"backgroundcolor\":\"#E5ECF6\",\"gridcolor\":\"white\",\"linecolor\":\"white\",\"showbackground\":true,\"ticks\":\"\",\"zerolinecolor\":\"white\",\"gridwidth\":2},\"zaxis\":{\"backgroundcolor\":\"#E5ECF6\",\"gridcolor\":\"white\",\"linecolor\":\"white\",\"showbackground\":true,\"ticks\":\"\",\"zerolinecolor\":\"white\",\"gridwidth\":2}},\"shapedefaults\":{\"line\":{\"color\":\"#2a3f5f\"}},\"annotationdefaults\":{\"arrowcolor\":\"#2a3f5f\",\"arrowhead\":0,\"arrowwidth\":1},\"geo\":{\"bgcolor\":\"white\",\"landcolor\":\"#E5ECF6\",\"subunitcolor\":\"white\",\"showland\":true,\"showlakes\":true,\"lakecolor\":\"white\"},\"title\":{\"x\":0.05},\"mapbox\":{\"style\":\"light\"}}}},                        {\"responsive\": true}                    ).then(function(){\n",
              "                            \n",
              "var gd = document.getElementById('beef2e67-f9da-4c9a-bfe0-f5fb6512bffb');\n",
              "var x = new MutationObserver(function (mutations, observer) {{\n",
              "        var display = window.getComputedStyle(gd).display;\n",
              "        if (!display || display === 'none') {{\n",
              "            console.log([gd, 'removed!']);\n",
              "            Plotly.purge(gd);\n",
              "            observer.disconnect();\n",
              "        }}\n",
              "}});\n",
              "\n",
              "// Listen for the removal of the full notebook cells\n",
              "var notebookContainer = gd.closest('#notebook-container');\n",
              "if (notebookContainer) {{\n",
              "    x.observe(notebookContainer, {childList: true});\n",
              "}}\n",
              "\n",
              "// Listen for the clearing of the current output cell\n",
              "var outputEl = gd.closest('.output');\n",
              "if (outputEl) {{\n",
              "    x.observe(outputEl, {childList: true});\n",
              "}}\n",
              "\n",
              "                        })                };                            </script>        </div>\n",
              "</body>\n",
              "</html>"
            ]
          },
          "metadata": {}
        }
      ]
    }
  ],
  "metadata": {
    "colab": {
      "provenance": [],
      "authorship_tag": "ABX9TyNqksouI/G9NNeJsy4v5Loq",
      "include_colab_link": true
    },
    "kernelspec": {
      "display_name": "Python 3",
      "name": "python3"
    },
    "language_info": {
      "name": "python"
    }
  },
  "nbformat": 4,
  "nbformat_minor": 0
}